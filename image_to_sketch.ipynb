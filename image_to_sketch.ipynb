{
  "nbformat": 4,
  "nbformat_minor": 0,
  "metadata": {
    "colab": {
      "provenance": []
    },
    "kernelspec": {
      "name": "python3",
      "display_name": "Python 3"
    },
    "language_info": {
      "name": "python"
    }
  },
  "cells": [
    {
      "cell_type": "code",
      "execution_count": 6,
      "metadata": {
        "colab": {
          "base_uri": "https://localhost:8080/"
        },
        "id": "VYWolfX6BeXP",
        "outputId": "903b4628-c649-4de1-d4a4-e0c6dc4beba1"
      },
      "outputs": [
        {
          "output_type": "execute_result",
          "data": {
            "text/plain": [
              "True"
            ]
          },
          "metadata": {},
          "execution_count": 6
        }
      ],
      "source": [
        "import cv2\n",
        "\n",
        "image=cv2.imread('/content/2016-08-06.jpg')\n",
        "\n",
        "gray_img=cv2.cvtColor(image, cv2.COLOR_BGR2GRAY)\n",
        "\n",
        "invert=cv2.bitwise_not(gray_img)\n",
        "\n",
        "blur=cv2.GaussianBlur(invert, (21,21),0)\n",
        "\n",
        "inverted_blur=cv2.bitwise_not(blur)\n",
        "\n",
        "sketch=cv2.divide(gray_img, inverted_blur, scale=256.0)\n",
        "\n",
        "cv2.imwrite('/content/output/sketch.png', sketch)"
      ]
    }
  ]
}