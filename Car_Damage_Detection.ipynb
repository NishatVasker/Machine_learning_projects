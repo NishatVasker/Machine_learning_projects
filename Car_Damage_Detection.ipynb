{
  "nbformat": 4,
  "nbformat_minor": 0,
  "metadata": {
    "colab": {
      "provenance": [],
      "authorship_tag": "ABX9TyOEztMTTfdapsrlakgDXJ+e",
      "include_colab_link": true
    },
    "kernelspec": {
      "name": "python3",
      "display_name": "Python 3"
    },
    "language_info": {
      "name": "python"
    }
  },
  "cells": [
    {
      "cell_type": "markdown",
      "metadata": {
        "id": "view-in-github",
        "colab_type": "text"
      },
      "source": [
        "<a href=\"https://colab.research.google.com/github/NishatVasker/Machine_learning_projects/blob/main/Car_Damage_Detection.ipynb\" target=\"_parent\"><img src=\"https://colab.research.google.com/assets/colab-badge.svg\" alt=\"Open In Colab\"/></a>"
      ]
    },
    {
      "cell_type": "code",
      "execution_count": null,
      "metadata": {
        "id": "C1_1A3cWu5KF"
      },
      "outputs": [],
      "source": [
        "\n",
        "from google.colab import drive\n",
        "drive.mount('/content/drive')"
      ]
    },
    {
      "cell_type": "code",
      "source": [
        "# install dependencies\n",
        "!pip install -U torch torchvision cython\n",
        "!pip install -U 'git+https://github.com/facebookresearch/fvcore.git' 'git+https://github.com/cocodataset/cocoapi.git#subdirectory=PythonAPI'\n",
        "import torch, torchvision\n",
        "torch.__version__\n",
        "    \n",
        "     !git clone https://github.com/facebookresearch/detectron2 detectron2_repo\n",
        "!pip install -e detectron2_repo\n",
        "     "
      ],
      "metadata": {
        "id": "JoXCBtz8u6vM"
      },
      "execution_count": null,
      "outputs": []
    },
    {
      "cell_type": "code",
      "source": [
        "import os\n",
        "import cv2\n",
        "from google.colab.patches import cv2_imshow\n",
        "import numpy as np\n",
        "import itertools\n",
        "import json\n",
        "import random\n",
        "\n",
        "from detectron2.structures import BoxMode\n",
        "from detectron2.utils.visualizer import Visualizer\n",
        "from detectron2.engine import DefaultTrainer, DefaultPredictor\n",
        "from detectron2.config import get_cfg\n",
        "from detectron2.data import DatasetCatalog, MetadataCatalog"
      ],
      "metadata": {
        "id": "iSaxgbWAu6pM"
      },
      "execution_count": null,
      "outputs": []
    },
    {
      "cell_type": "code",
      "source": [
        "\n",
        "def getImageDicts(imgDir):\n",
        "    jsonFile = os.path.join(imgDir,\"via_region_data.json\")\n",
        "    \n",
        "    with open(jsonFile) as f:\n",
        "        imgAnnotations = json.load(f)\n",
        "    datasetDicts = []\n",
        "    for id, value in enumerate(imgAnnotations.values()):\n",
        "      \n",
        "        record= {}\n",
        "      \n",
        "        filepath = os.path.join(imgDir,value['filename'])\n",
        "        try:\n",
        "            height, width = cv2.imread(filepath).shape[:2]\n",
        "        except AttributeError:\n",
        "            continue\n",
        "        record['file_name'] = filepath\n",
        "        record['image_id'] = id\n",
        "        record['height'] = height\n",
        "        record['width'] = width\n",
        "\n",
        "        annos = value['regions']\n",
        "        objs = []\n",
        "        for _, anno in annos.items():\n",
        "            anno = anno['shape_attributes']\n",
        "            px = anno['all_points_x']\n",
        "            py = anno['all_points_y']\n",
        "            poly = [(x + 0.5, y + 0.5) for x,y in zip(px,py)]\n",
        "            poly = list(itertools.chain.from_iterable(poly))\n",
        "\n",
        "            obj = {\n",
        "                'bbox' : [np.min(px), np.min(py), np.max(px), np.max(py)],\n",
        "                'bbox_mode' : BoxMode.XYXY_ABS,\n",
        "                'segmentation' : [poly],\n",
        "                'category_id' : 0,\n",
        "                'iscrowd' : 0\n",
        "            }\n",
        "            objs.append(obj)\n",
        "        record['annotations'] = objs\n",
        "        datasetDicts.append(record)\n",
        "    print(\"HERE\")\n",
        "    return datasetDicts\n",
        "     \n",
        "datasetPath = \"/content/drive/My Drive/Car-Damage-Dataset/\"\n",
        "for d in [\"train\",\"val\"]:\n",
        "    #DatasetCatalog.clear()\n",
        "    DatasetCatalog.register(\"car_dataset_\"+d, lambda d=d: getImageDicts(datasetPath + d))\n",
        "    MetadataCatalog.get(\"car_dataset_\"+d).thing_classes = [\"damage\"]\n",
        "     \n",
        "\n",
        "print(len(imageDicts))"
      ],
      "metadata": {
        "id": "ulredpZyu6m5"
      },
      "execution_count": null,
      "outputs": []
    },
    {
      "cell_type": "code",
      "source": [
        "\n",
        "imageDicts = getImageDicts(datasetPath+\"train\")\n",
        "metadata = MetadataCatalog.get(\"car_dataset_train\")\n",
        "for item in random.sample(imageDicts, 3):\n",
        "    img = cv2.imread(item['file_name'])\n",
        "    visualizer = Visualizer(img[:,:,::-1], metadata=metadata,scale=0.5)\n",
        "    vis = visualizer.draw_dataset_dict(item)\n",
        "    cv2_imshow(vis.get_image()[:,:,::-1])"
      ],
      "metadata": {
        "id": "ziwPT8Xju6kR"
      },
      "execution_count": null,
      "outputs": []
    },
    {
      "cell_type": "code",
      "source": [
        "#training configuration\n",
        "cfg = get_cfg()\n",
        "cfg.merge_from_file(\"./detectron2_repo/configs/COCO-InstanceSegmentation/mask_rcnn_R_50_FPN_3x.yaml\")\n",
        "cfg.DATASETS.TRAIN = (\"car_dataset_train\", )\n",
        "cfg.DATASETS.TEST = ()\n",
        "cfg.DATALOADER.NUM_WORKERS = 2\n",
        "cfg.MODEL.WEIGHTS = \"detectron2://COCO-InstanceSegmentation/mask_rcnn_R_50_FPN_3x/137849600/model_final_f10217.pkl\"\n",
        "cfg.SOLVER.IMS_PER_BATCH = 2\n",
        "cfg.SOLVER.BASE_LR = 0.002\n",
        "cfg.SOLVER.MAX_ITER = 350   \n",
        "cfg.MODEL.ROI_HEADS.BATCH_SIZE_PER_IMAGE = 128\n",
        "cfg.MODEL.ROI_HEADS.NUM_CLASSES = 1  \n",
        "\n",
        "os.makedirs(cfg.OUTPUT_DIR, exist_ok=True)\n",
        "trainer = DefaultTrainer(cfg) \n",
        "trainer.resume_or_load(resume=False)\n",
        "trainer.train()\n",
        "     "
      ],
      "metadata": {
        "id": "C48SULo0u6iJ"
      },
      "execution_count": null,
      "outputs": []
    },
    {
      "cell_type": "code",
      "source": [
        "\n",
        "%reload_ext tensorboard\n",
        "%tensorboard --logdir output\n",
        "     "
      ],
      "metadata": {
        "id": "QoL1Mxxyu6fa"
      },
      "execution_count": null,
      "outputs": []
    },
    {
      "cell_type": "code",
      "source": [
        "cfg.MODEL.WEIGHTS = os.path.join(cfg.OUTPUT_DIR, \"model_final.pth\")\n",
        "#cfg.MODEL.WEIGHTS = \"/content/drive/My Drive/Saved Models/BestModels/Maskrcnn/model_final_detectron2_44.pth\"\n",
        "cfg.MODEL.ROI_HEADS.SCORE_THRESH_TEST = 0.7\n",
        "cfg.DATASETS.TEST = (\"car_dataset_val\", )\n",
        "predictor = DefaultPredictor(cfg)\n",
        "     "
      ],
      "metadata": {
        "id": "K3N4NV02u6dK"
      },
      "execution_count": null,
      "outputs": []
    },
    {
      "cell_type": "code",
      "source": [
        "from detectron2.utils.visualizer import ColorMode\n",
        "valImgDicts = getImageDicts(datasetPath+\"val\")\n",
        "for d in random.sample(valImgDicts, 10):    \n",
        "    im = cv2.imread(d[\"file_name\"])\n",
        "    outputs = predictor(im)\n",
        "    #print(outputs)\n",
        "    v = Visualizer(im[:, :, ::-1],\n",
        "                   metadata=metadata, \n",
        "                   scale=0.5,\n",
        "                   instance_mode=ColorMode.IMAGE_BW \n",
        "    )\n",
        "    v = v.draw_instance_predictions(outputs[\"instances\"].to(\"cpu\"))\n",
        "    cv2_imshow(v.get_image()[:, :, ::-1])"
      ],
      "metadata": {
        "id": "O3u9-muZu6a_"
      },
      "execution_count": null,
      "outputs": []
    },
    {
      "cell_type": "code",
      "source": [
        "from detectron2.evaluation import COCOEvaluator, inference_on_dataset\n",
        "from detectron2.data import build_detection_test_loader\n",
        "evaluator = COCOEvaluator(\"car_dataset_val\", cfg, False, output_dir=\"./output/\")\n",
        "val_loader = build_detection_test_loader(cfg, \"car_dataset_val\")\n",
        "inference_on_dataset(trainer.model, val_loader, evaluator)\n",
        "# another equivalent way is to use trainer.test"
      ],
      "metadata": {
        "id": "eZpzM34xu6Yh"
      },
      "execution_count": null,
      "outputs": []
    },
    {
      "cell_type": "code",
      "source": [],
      "metadata": {
        "id": "CM81i-4Nu6WN"
      },
      "execution_count": null,
      "outputs": []
    },
    {
      "cell_type": "code",
      "source": [],
      "metadata": {
        "id": "flX0Cpphu6T9"
      },
      "execution_count": null,
      "outputs": []
    },
    {
      "cell_type": "code",
      "source": [],
      "metadata": {
        "id": "k4PpXXIwu6Rf"
      },
      "execution_count": null,
      "outputs": []
    },
    {
      "cell_type": "code",
      "source": [],
      "metadata": {
        "id": "i7tduhe8u6PQ"
      },
      "execution_count": null,
      "outputs": []
    },
    {
      "cell_type": "code",
      "source": [],
      "metadata": {
        "id": "rClnm1obu6Mz"
      },
      "execution_count": null,
      "outputs": []
    }
  ]
}