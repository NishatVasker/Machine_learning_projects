{
  "nbformat": 4,
  "nbformat_minor": 0,
  "metadata": {
    "colab": {
      "name": "World_country_people_voice_ACCENT.ipynb",
      "provenance": [],
      "authorship_tag": "ABX9TyPZUINJLmSdb0KkbS+2Ep2X",
      "include_colab_link": true
    },
    "kernelspec": {
      "name": "python3",
      "display_name": "Python 3"
    },
    "language_info": {
      "name": "python"
    }
  },
  "cells": [
    {
      "cell_type": "markdown",
      "metadata": {
        "id": "view-in-github",
        "colab_type": "text"
      },
      "source": [
        "<a href=\"https://colab.research.google.com/github/NishatVasker/Machine_learning_projects/blob/main/World_country_people_voice_ACCENT(PROJECT).ipynb\" target=\"_parent\"><img src=\"https://colab.research.google.com/assets/colab-badge.svg\" alt=\"Open In Colab\"/></a>"
      ]
    },
    {
      "cell_type": "code",
      "execution_count": 6,
      "metadata": {
        "colab": {
          "base_uri": "https://localhost:8080/"
        },
        "id": "Rtt_DFISepgy",
        "outputId": "2701b3dc-639a-4ad9-8245-3dcd9cbf1708"
      },
      "outputs": [
        {
          "output_type": "stream",
          "name": "stdout",
          "text": [
            "Looking in indexes: https://pypi.org/simple, https://us-python.pkg.dev/colab-wheels/public/simple/\n",
            "Requirement already satisfied: gTTS in /usr/local/lib/python3.7/dist-packages (2.2.4)\n",
            "Requirement already satisfied: requests in /usr/local/lib/python3.7/dist-packages (from gTTS) (2.23.0)\n",
            "Requirement already satisfied: six in /usr/local/lib/python3.7/dist-packages (from gTTS) (1.15.0)\n",
            "Requirement already satisfied: click in /usr/local/lib/python3.7/dist-packages (from gTTS) (7.1.2)\n",
            "Requirement already satisfied: certifi>=2017.4.17 in /usr/local/lib/python3.7/dist-packages (from requests->gTTS) (2022.6.15)\n",
            "Requirement already satisfied: idna<3,>=2.5 in /usr/local/lib/python3.7/dist-packages (from requests->gTTS) (2.10)\n",
            "Requirement already satisfied: chardet<4,>=3.0.2 in /usr/local/lib/python3.7/dist-packages (from requests->gTTS) (3.0.4)\n",
            "Requirement already satisfied: urllib3!=1.25.0,!=1.25.1,<1.26,>=1.21.1 in /usr/local/lib/python3.7/dist-packages (from requests->gTTS) (1.24.3)\n"
          ]
        }
      ],
      "source": [
        "!pip install gTTS"
      ]
    },
    {
      "cell_type": "code",
      "source": [
        "from gtts import gTTS\n",
        "\n",
        "text_to_say = \"আমি নিশাত , তুমি নোভা , ভাত আর খাবো না\"\n",
        "\n",
        "language = \"ar\" #Arabic \n",
        "\n",
        "####### Fast motion accent\n",
        "\n",
        "gtts_object = gTTS(text = text_to_say, \n",
        "                  lang = language,\n",
        "                  slow = False)\n",
        "\n",
        "gtts_object.save(\"/content/gtts.wav\")"
      ],
      "metadata": {
        "id": "4VSHo0-xet1h"
      },
      "execution_count": 7,
      "outputs": []
    },
    {
      "cell_type": "code",
      "source": [
        "from IPython.display import Audio\n",
        "\n",
        "Audio(\"/content/gtts.wav\")"
      ],
      "metadata": {
        "colab": {
          "base_uri": "https://localhost:8080/",
          "height": 76
        },
        "id": "eZenoXOhet6y",
        "outputId": "958e6574-4679-43d9-ed48-3bde342b311e"
      },
      "execution_count": 8,
      "outputs": [
        {
          "output_type": "execute_result",
          "data": {
            "text/plain": [
              "<IPython.lib.display.Audio object>"
            ],
            "text/html": [
              "\n",
              "                <audio controls=\"controls\" >\n",
              "                    <source src=\"data:audio/x-wav;base64,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\" type=\"audio/x-wav\" />\n",
              "                    Your browser does not support the audio element.\n",
              "                </audio>\n",
              "              "
            ]
          },
          "metadata": {},
          "execution_count": 8
        }
      ]
    },
    {
      "cell_type": "code",
      "source": [
        "text = \" আমার সোনার বাংলা, আমি তোমায় ভালোবাসি আমার সোনার বাংলা, আমি তোমায় ভালোবাসি চিরদিন তোমার আকাশ চিরদিন তোমার আকাশ, তোমার বাতাস আমার প্রাণে, ওগো আমার প্রাণে বাজায় বাঁশি সোনার বাংলা, আমি তোমায় ভালোবাসি ও মা, ফাগুনে তোর আমের বনে ঘ্রাণে পাগল করে মরি হায়, হায় রে ও মা, ফাগুনে তোর আমের বনে ঘ্রাণে পাগল করে ও মা, অঘ্রানে তোর ভরা ক্ষেতে অঘ্রানে তোর ভরা ক্ষেতে কী দেখেছি আমি কি দেখেছি মধুর হাসি সোনার বাংলা, আমি তোমায় ভালোবাসি কী শোভা, কী ছায়া গো, কী স্নেহ, কী মায়া গো কী আঁচল বিছায়েছ বটের মূলে, নদীর কূলে কূলে মা, তোর মুখের বাণী আমার কানে লাগে সুধার মতো মরি হায়, হায় রে মা, তোর মুখের বাণী আমার কানে লাগে সুধার মতো মা, তোর বদনখানি মলিন মা, তোর বদনখানি মলিন হলে আমি নয়ন, ও মা, আমি নয়নজলে ভাসি সোনার বাংলা, আমি তোমায় ভালোবাসি তোমার এই খেলাঘরে শিশুকাল কাটিল রে তোমারি ধুলামাটি অঙ্গে মাখি ধন্য জীবন মানি তুই দিন ফুরালে সন্ধ্যাকালে কী দীপ জ্বালিস ঘরে মরি হায়, হায় রে মা, তুই দিন ফুরালে সন্ধ্যাকালে কী দীপ জ্বালিস ঘরে তখন খেলাধুলা সকল ফেলে খেলাধুলা সকল ফেলে তোমার কোলে ও মা, তোমার কোলে ছুটে আসি সোনার বাংলা, আমি তোমায় ভালোবাসি ধেনু-চরা তোমার মাঠে, পারে যাবার খেয়াঘাটে সারা দিন পাখি-ডাকা ছায়ায়-ঢাকা তোমার পল্লীবাটে তোমার ধানে-ভরা আঙিনাতে জীবনের দিন কাটে মরি হায়, হায় রে মা তোর ধানে-ভরা আঙিনাতে জীবনের দিন কাটে ও মা, আমার যে ভাই তারা সবাই আমার যে ভাই তারা সবাই তোমার রাখাল ও মা, তোমার রাখাল তোমার চাষি সোনার বাংলা, আমি তোমায় ভালোবাসি ও মা, তোর চরণেতে দিলেম এই মাথা পেতে দে গো তোর পায়ের ধূলা, সে যে আমার মাথার মানিক হবে ও মা, গরিবের ধন যা আছে তাই দিব চরণতলে মরি হায়, হায় রে ও মা, গরিবের ধন যা আছে তাই দিব চরণতলে আমি পরের ঘরে কিনব না আমি পরের ঘরে কিনব না তোর ভূষণ বলে মা, তোর ভূষণ বলে গলার ফাঁসি সোনার বাংলা, আমি তোমায় ভালোবাসি আমার সোনার বাংলা, আমি তোমায় ভালোবাসি\"\n",
        "\n",
        "language = \"en\" #English\n",
        "\n",
        "########## Slow motion accent\n",
        "\n",
        "gtts_object = gTTS(text = text,\n",
        "                          lang = language,\n",
        "                          slow = True)\n",
        "\n",
        "gtts_object.save(\"/content/french.wav\")\n",
        "\n",
        "Audio(\"/content/french.wav\")"
      ],
      "metadata": {
        "colab": {
          "base_uri": "https://localhost:8080/",
          "height": 235
        },
        "id": "d4lRsgkaet84",
        "outputId": "01a19f93-bab4-4269-fb19-204282f30099"
      },
      "execution_count": 9,
      "outputs": [
        {
          "output_type": "error",
          "ename": "NameError",
          "evalue": "ignored",
          "traceback": [
            "\u001b[0;31m---------------------------------------------------------------------------\u001b[0m",
            "\u001b[0;31mNameError\u001b[0m                                 Traceback (most recent call last)",
            "\u001b[0;32m<ipython-input-9-941fb3b85bf0>\u001b[0m in \u001b[0;36m<module>\u001b[0;34m()\u001b[0m\n\u001b[1;32m      6\u001b[0m \u001b[0;34m\u001b[0m\u001b[0m\n\u001b[1;32m      7\u001b[0m gtts_object = gTTS(text = text,\n\u001b[0;32m----> 8\u001b[0;31m                           \u001b[0mlang\u001b[0m \u001b[0;34m=\u001b[0m \u001b[0mfrench_language\u001b[0m\u001b[0;34m,\u001b[0m\u001b[0;34m\u001b[0m\u001b[0;34m\u001b[0m\u001b[0m\n\u001b[0m\u001b[1;32m      9\u001b[0m                           slow = True)\n\u001b[1;32m     10\u001b[0m \u001b[0;34m\u001b[0m\u001b[0m\n",
            "\u001b[0;31mNameError\u001b[0m: name 'french_language' is not defined"
          ]
        }
      ]
    },
    {
      "cell_type": "code",
      "source": [
        "text = \" Hello world this is Nishat , come to lead the tech world\"\n",
        "\n",
        "language = \"bn\" #Bnagla\n",
        "\n",
        "#### SLOW motion accent \n",
        "\n",
        "french_gtts_object = gTTS(text = text,\n",
        "                          lang = language,\n",
        "                          slow = True)\n",
        "\n",
        "french_gtts_object.save(\"/content/french.wav\")\n",
        "\n",
        "Audio(\"/content/french.wav\")"
      ],
      "metadata": {
        "id": "8-_USDtkeuAS"
      },
      "execution_count": null,
      "outputs": []
    }
  ]
}