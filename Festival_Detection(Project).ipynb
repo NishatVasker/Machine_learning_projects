{
  "nbformat": 4,
  "nbformat_minor": 0,
  "metadata": {
    "colab": {
      "name": "Festival_Detection(Project).ipynb",
      "provenance": [],
      "include_colab_link": true
    },
    "kernelspec": {
      "name": "python3",
      "display_name": "Python 3"
    },
    "accelerator": "GPU"
  },
  "cells": [
    {
      "cell_type": "markdown",
      "metadata": {
        "id": "view-in-github",
        "colab_type": "text"
      },
      "source": [
        "<a href=\"https://colab.research.google.com/github/NishatVasker/Machine_learning_projects/blob/main/Festival_Detection(Project).ipynb\" target=\"_parent\"><img src=\"https://colab.research.google.com/assets/colab-badge.svg\" alt=\"Open In Colab\"/></a>"
      ]
    },
    {
      "cell_type": "code",
      "metadata": {
        "colab": {
          "base_uri": "https://localhost:8080/"
        },
        "id": "DHy_yeFGtiC0",
        "outputId": "4466f807-e430-4f9b-d846-9aca662c43e6"
      },
      "source": [
        "from google.colab import drive\n",
        "drive.mount('/content/gdrive')"
      ],
      "execution_count": 1,
      "outputs": [
        {
          "output_type": "stream",
          "name": "stdout",
          "text": [
            "Mounted at /content/gdrive\n"
          ]
        }
      ]
    },
    {
      "cell_type": "code",
      "metadata": {
        "colab": {
          "base_uri": "https://localhost:8080/"
        },
        "id": "KJ92mULitmlg",
        "outputId": "a93b2cf9-38fa-46ca-fca1-03aa4c54d6fb"
      },
      "source": [
        "!git clone https://github.com/ultralytics/yolov5"
      ],
      "execution_count": 2,
      "outputs": [
        {
          "output_type": "stream",
          "name": "stdout",
          "text": [
            "Cloning into 'yolov5'...\n",
            "remote: Enumerating objects: 13071, done.\u001b[K\n",
            "remote: Counting objects: 100% (246/246), done.\u001b[K\n",
            "remote: Compressing objects: 100% (123/123), done.\u001b[K\n",
            "remote: Total 13071 (delta 154), reused 205 (delta 123), pack-reused 12825\u001b[K\n",
            "Receiving objects: 100% (13071/13071), 12.41 MiB | 30.56 MiB/s, done.\n",
            "Resolving deltas: 100% (8982/8982), done.\n"
          ]
        }
      ]
    },
    {
      "cell_type": "code",
      "metadata": {
        "colab": {
          "base_uri": "https://localhost:8080/"
        },
        "id": "E_FPDuMguUC1",
        "outputId": "9b92d836-4be4-40f9-b711-f938848f9f71"
      },
      "source": [
        "!pip install -r yolov5/requirements.txt"
      ],
      "execution_count": 3,
      "outputs": [
        {
          "output_type": "stream",
          "name": "stdout",
          "text": [
            "Looking in indexes: https://pypi.org/simple, https://us-python.pkg.dev/colab-wheels/public/simple/\n",
            "Requirement already satisfied: matplotlib>=3.2.2 in /usr/local/lib/python3.7/dist-packages (from -r yolov5/requirements.txt (line 5)) (3.2.2)\n",
            "Requirement already satisfied: numpy>=1.18.5 in /usr/local/lib/python3.7/dist-packages (from -r yolov5/requirements.txt (line 6)) (1.21.6)\n",
            "Requirement already satisfied: opencv-python>=4.1.1 in /usr/local/lib/python3.7/dist-packages (from -r yolov5/requirements.txt (line 7)) (4.6.0.66)\n",
            "Requirement already satisfied: Pillow>=7.1.2 in /usr/local/lib/python3.7/dist-packages (from -r yolov5/requirements.txt (line 8)) (7.1.2)\n",
            "Collecting PyYAML>=5.3.1\n",
            "  Downloading PyYAML-6.0-cp37-cp37m-manylinux_2_5_x86_64.manylinux1_x86_64.manylinux_2_12_x86_64.manylinux2010_x86_64.whl (596 kB)\n",
            "\u001b[K     |████████████████████████████████| 596 kB 5.0 MB/s \n",
            "\u001b[?25hRequirement already satisfied: requests>=2.23.0 in /usr/local/lib/python3.7/dist-packages (from -r yolov5/requirements.txt (line 10)) (2.23.0)\n",
            "Requirement already satisfied: scipy>=1.4.1 in /usr/local/lib/python3.7/dist-packages (from -r yolov5/requirements.txt (line 11)) (1.7.3)\n",
            "Requirement already satisfied: torch>=1.7.0 in /usr/local/lib/python3.7/dist-packages (from -r yolov5/requirements.txt (line 12)) (1.12.0+cu113)\n",
            "Requirement already satisfied: torchvision>=0.8.1 in /usr/local/lib/python3.7/dist-packages (from -r yolov5/requirements.txt (line 13)) (0.13.0+cu113)\n",
            "Requirement already satisfied: tqdm>=4.64.0 in /usr/local/lib/python3.7/dist-packages (from -r yolov5/requirements.txt (line 14)) (4.64.0)\n",
            "Requirement already satisfied: protobuf<4.21.3 in /usr/local/lib/python3.7/dist-packages (from -r yolov5/requirements.txt (line 15)) (3.17.3)\n",
            "Requirement already satisfied: tensorboard>=2.4.1 in /usr/local/lib/python3.7/dist-packages (from -r yolov5/requirements.txt (line 18)) (2.8.0)\n",
            "Requirement already satisfied: pandas>=1.1.4 in /usr/local/lib/python3.7/dist-packages (from -r yolov5/requirements.txt (line 22)) (1.3.5)\n",
            "Requirement already satisfied: seaborn>=0.11.0 in /usr/local/lib/python3.7/dist-packages (from -r yolov5/requirements.txt (line 23)) (0.11.2)\n",
            "Requirement already satisfied: ipython in /usr/local/lib/python3.7/dist-packages (from -r yolov5/requirements.txt (line 37)) (5.5.0)\n",
            "Requirement already satisfied: psutil in /usr/local/lib/python3.7/dist-packages (from -r yolov5/requirements.txt (line 38)) (5.4.8)\n",
            "Collecting thop>=0.1.1\n",
            "  Downloading thop-0.1.1.post2207130030-py3-none-any.whl (15 kB)\n",
            "Requirement already satisfied: pyparsing!=2.0.4,!=2.1.2,!=2.1.6,>=2.0.1 in /usr/local/lib/python3.7/dist-packages (from matplotlib>=3.2.2->-r yolov5/requirements.txt (line 5)) (3.0.9)\n",
            "Requirement already satisfied: cycler>=0.10 in /usr/local/lib/python3.7/dist-packages (from matplotlib>=3.2.2->-r yolov5/requirements.txt (line 5)) (0.11.0)\n",
            "Requirement already satisfied: kiwisolver>=1.0.1 in /usr/local/lib/python3.7/dist-packages (from matplotlib>=3.2.2->-r yolov5/requirements.txt (line 5)) (1.4.4)\n",
            "Requirement already satisfied: python-dateutil>=2.1 in /usr/local/lib/python3.7/dist-packages (from matplotlib>=3.2.2->-r yolov5/requirements.txt (line 5)) (2.8.2)\n",
            "Requirement already satisfied: certifi>=2017.4.17 in /usr/local/lib/python3.7/dist-packages (from requests>=2.23.0->-r yolov5/requirements.txt (line 10)) (2022.6.15)\n",
            "Requirement already satisfied: chardet<4,>=3.0.2 in /usr/local/lib/python3.7/dist-packages (from requests>=2.23.0->-r yolov5/requirements.txt (line 10)) (3.0.4)\n",
            "Requirement already satisfied: idna<3,>=2.5 in /usr/local/lib/python3.7/dist-packages (from requests>=2.23.0->-r yolov5/requirements.txt (line 10)) (2.10)\n",
            "Requirement already satisfied: urllib3!=1.25.0,!=1.25.1,<1.26,>=1.21.1 in /usr/local/lib/python3.7/dist-packages (from requests>=2.23.0->-r yolov5/requirements.txt (line 10)) (1.24.3)\n",
            "Requirement already satisfied: typing-extensions in /usr/local/lib/python3.7/dist-packages (from torch>=1.7.0->-r yolov5/requirements.txt (line 12)) (4.1.1)\n",
            "Requirement already satisfied: six>=1.9 in /usr/local/lib/python3.7/dist-packages (from protobuf<4.21.3->-r yolov5/requirements.txt (line 15)) (1.15.0)\n",
            "Requirement already satisfied: setuptools>=41.0.0 in /usr/local/lib/python3.7/dist-packages (from tensorboard>=2.4.1->-r yolov5/requirements.txt (line 18)) (57.4.0)\n",
            "Requirement already satisfied: wheel>=0.26 in /usr/local/lib/python3.7/dist-packages (from tensorboard>=2.4.1->-r yolov5/requirements.txt (line 18)) (0.37.1)\n",
            "Requirement already satisfied: google-auth-oauthlib<0.5,>=0.4.1 in /usr/local/lib/python3.7/dist-packages (from tensorboard>=2.4.1->-r yolov5/requirements.txt (line 18)) (0.4.6)\n",
            "Requirement already satisfied: google-auth<3,>=1.6.3 in /usr/local/lib/python3.7/dist-packages (from tensorboard>=2.4.1->-r yolov5/requirements.txt (line 18)) (1.35.0)\n",
            "Requirement already satisfied: absl-py>=0.4 in /usr/local/lib/python3.7/dist-packages (from tensorboard>=2.4.1->-r yolov5/requirements.txt (line 18)) (1.2.0)\n",
            "Requirement already satisfied: markdown>=2.6.8 in /usr/local/lib/python3.7/dist-packages (from tensorboard>=2.4.1->-r yolov5/requirements.txt (line 18)) (3.4.1)\n",
            "Requirement already satisfied: tensorboard-data-server<0.7.0,>=0.6.0 in /usr/local/lib/python3.7/dist-packages (from tensorboard>=2.4.1->-r yolov5/requirements.txt (line 18)) (0.6.1)\n",
            "Requirement already satisfied: grpcio>=1.24.3 in /usr/local/lib/python3.7/dist-packages (from tensorboard>=2.4.1->-r yolov5/requirements.txt (line 18)) (1.47.0)\n",
            "Requirement already satisfied: werkzeug>=0.11.15 in /usr/local/lib/python3.7/dist-packages (from tensorboard>=2.4.1->-r yolov5/requirements.txt (line 18)) (1.0.1)\n",
            "Requirement already satisfied: tensorboard-plugin-wit>=1.6.0 in /usr/local/lib/python3.7/dist-packages (from tensorboard>=2.4.1->-r yolov5/requirements.txt (line 18)) (1.8.1)\n",
            "Requirement already satisfied: pytz>=2017.3 in /usr/local/lib/python3.7/dist-packages (from pandas>=1.1.4->-r yolov5/requirements.txt (line 22)) (2022.1)\n",
            "Requirement already satisfied: rsa<5,>=3.1.4 in /usr/local/lib/python3.7/dist-packages (from google-auth<3,>=1.6.3->tensorboard>=2.4.1->-r yolov5/requirements.txt (line 18)) (4.8)\n",
            "Requirement already satisfied: pyasn1-modules>=0.2.1 in /usr/local/lib/python3.7/dist-packages (from google-auth<3,>=1.6.3->tensorboard>=2.4.1->-r yolov5/requirements.txt (line 18)) (0.2.8)\n",
            "Requirement already satisfied: cachetools<5.0,>=2.0.0 in /usr/local/lib/python3.7/dist-packages (from google-auth<3,>=1.6.3->tensorboard>=2.4.1->-r yolov5/requirements.txt (line 18)) (4.2.4)\n",
            "Requirement already satisfied: requests-oauthlib>=0.7.0 in /usr/local/lib/python3.7/dist-packages (from google-auth-oauthlib<0.5,>=0.4.1->tensorboard>=2.4.1->-r yolov5/requirements.txt (line 18)) (1.3.1)\n",
            "Requirement already satisfied: importlib-metadata>=4.4 in /usr/local/lib/python3.7/dist-packages (from markdown>=2.6.8->tensorboard>=2.4.1->-r yolov5/requirements.txt (line 18)) (4.12.0)\n",
            "Requirement already satisfied: zipp>=0.5 in /usr/local/lib/python3.7/dist-packages (from importlib-metadata>=4.4->markdown>=2.6.8->tensorboard>=2.4.1->-r yolov5/requirements.txt (line 18)) (3.8.1)\n",
            "Requirement already satisfied: pyasn1<0.5.0,>=0.4.6 in /usr/local/lib/python3.7/dist-packages (from pyasn1-modules>=0.2.1->google-auth<3,>=1.6.3->tensorboard>=2.4.1->-r yolov5/requirements.txt (line 18)) (0.4.8)\n",
            "Requirement already satisfied: oauthlib>=3.0.0 in /usr/local/lib/python3.7/dist-packages (from requests-oauthlib>=0.7.0->google-auth-oauthlib<0.5,>=0.4.1->tensorboard>=2.4.1->-r yolov5/requirements.txt (line 18)) (3.2.0)\n",
            "Requirement already satisfied: prompt-toolkit<2.0.0,>=1.0.4 in /usr/local/lib/python3.7/dist-packages (from ipython->-r yolov5/requirements.txt (line 37)) (1.0.18)\n",
            "Requirement already satisfied: traitlets>=4.2 in /usr/local/lib/python3.7/dist-packages (from ipython->-r yolov5/requirements.txt (line 37)) (5.1.1)\n",
            "Requirement already satisfied: pickleshare in /usr/local/lib/python3.7/dist-packages (from ipython->-r yolov5/requirements.txt (line 37)) (0.7.5)\n",
            "Requirement already satisfied: decorator in /usr/local/lib/python3.7/dist-packages (from ipython->-r yolov5/requirements.txt (line 37)) (4.4.2)\n",
            "Requirement already satisfied: pygments in /usr/local/lib/python3.7/dist-packages (from ipython->-r yolov5/requirements.txt (line 37)) (2.6.1)\n",
            "Requirement already satisfied: pexpect in /usr/local/lib/python3.7/dist-packages (from ipython->-r yolov5/requirements.txt (line 37)) (4.8.0)\n",
            "Requirement already satisfied: simplegeneric>0.8 in /usr/local/lib/python3.7/dist-packages (from ipython->-r yolov5/requirements.txt (line 37)) (0.8.1)\n",
            "Requirement already satisfied: wcwidth in /usr/local/lib/python3.7/dist-packages (from prompt-toolkit<2.0.0,>=1.0.4->ipython->-r yolov5/requirements.txt (line 37)) (0.2.5)\n",
            "Requirement already satisfied: ptyprocess>=0.5 in /usr/local/lib/python3.7/dist-packages (from pexpect->ipython->-r yolov5/requirements.txt (line 37)) (0.7.0)\n",
            "Installing collected packages: thop, PyYAML\n",
            "  Attempting uninstall: PyYAML\n",
            "    Found existing installation: PyYAML 3.13\n",
            "    Uninstalling PyYAML-3.13:\n",
            "      Successfully uninstalled PyYAML-3.13\n",
            "Successfully installed PyYAML-6.0 thop-0.1.1.post2207130030\n"
          ]
        }
      ]
    },
    {
      "cell_type": "code",
      "metadata": {
        "colab": {
          "base_uri": "https://localhost:8080/"
        },
        "id": "PnxoU5dNuknd",
        "outputId": "877ccfcb-1782-43d7-f0d3-c7acf6fe4993"
      },
      "source": [
        "!nvidia-smi"
      ],
      "execution_count": 4,
      "outputs": [
        {
          "output_type": "stream",
          "name": "stdout",
          "text": [
            "Sun Jul 24 14:52:01 2022       \n",
            "+-----------------------------------------------------------------------------+\n",
            "| NVIDIA-SMI 460.32.03    Driver Version: 460.32.03    CUDA Version: 11.2     |\n",
            "|-------------------------------+----------------------+----------------------+\n",
            "| GPU  Name        Persistence-M| Bus-Id        Disp.A | Volatile Uncorr. ECC |\n",
            "| Fan  Temp  Perf  Pwr:Usage/Cap|         Memory-Usage | GPU-Util  Compute M. |\n",
            "|                               |                      |               MIG M. |\n",
            "|===============================+======================+======================|\n",
            "|   0  Tesla T4            Off  | 00000000:00:04.0 Off |                    0 |\n",
            "| N/A   62C    P8    11W /  70W |      0MiB / 15109MiB |      0%      Default |\n",
            "|                               |                      |                  N/A |\n",
            "+-------------------------------+----------------------+----------------------+\n",
            "                                                                               \n",
            "+-----------------------------------------------------------------------------+\n",
            "| Processes:                                                                  |\n",
            "|  GPU   GI   CI        PID   Type   Process name                  GPU Memory |\n",
            "|        ID   ID                                                   Usage      |\n",
            "|=============================================================================|\n",
            "|  No running processes found                                                 |\n",
            "+-----------------------------------------------------------------------------+\n"
          ]
        }
      ]
    },
    {
      "cell_type": "code",
      "metadata": {
        "colab": {
          "base_uri": "https://localhost:8080/"
        },
        "id": "IQYa67WXurPO",
        "outputId": "57ef17d9-80c8-4be7-def7-5940521fc6e7"
      },
      "source": [
        "%cd yolov5"
      ],
      "execution_count": 5,
      "outputs": [
        {
          "output_type": "stream",
          "name": "stdout",
          "text": [
            "/content/yolov5\n"
          ]
        }
      ]
    },
    {
      "cell_type": "code",
      "metadata": {
        "colab": {
          "resources": {
            "http://localhost:8080/nbextensions/google.colab/files.js": {
              "data": "Ly8gQ29weXJpZ2h0IDIwMTcgR29vZ2xlIExMQwovLwovLyBMaWNlbnNlZCB1bmRlciB0aGUgQXBhY2hlIExpY2Vuc2UsIFZlcnNpb24gMi4wICh0aGUgIkxpY2Vuc2UiKTsKLy8geW91IG1heSBub3QgdXNlIHRoaXMgZmlsZSBleGNlcHQgaW4gY29tcGxpYW5jZSB3aXRoIHRoZSBMaWNlbnNlLgovLyBZb3UgbWF5IG9idGFpbiBhIGNvcHkgb2YgdGhlIExpY2Vuc2UgYXQKLy8KLy8gICAgICBodHRwOi8vd3d3LmFwYWNoZS5vcmcvbGljZW5zZXMvTElDRU5TRS0yLjAKLy8KLy8gVW5sZXNzIHJlcXVpcmVkIGJ5IGFwcGxpY2FibGUgbGF3IG9yIGFncmVlZCB0byBpbiB3cml0aW5nLCBzb2Z0d2FyZQovLyBkaXN0cmlidXRlZCB1bmRlciB0aGUgTGljZW5zZSBpcyBkaXN0cmlidXRlZCBvbiBhbiAiQVMgSVMiIEJBU0lTLAovLyBXSVRIT1VUIFdBUlJBTlRJRVMgT1IgQ09ORElUSU9OUyBPRiBBTlkgS0lORCwgZWl0aGVyIGV4cHJlc3Mgb3IgaW1wbGllZC4KLy8gU2VlIHRoZSBMaWNlbnNlIGZvciB0aGUgc3BlY2lmaWMgbGFuZ3VhZ2UgZ292ZXJuaW5nIHBlcm1pc3Npb25zIGFuZAovLyBsaW1pdGF0aW9ucyB1bmRlciB0aGUgTGljZW5zZS4KCi8qKgogKiBAZmlsZW92ZXJ2aWV3IEhlbHBlcnMgZm9yIGdvb2dsZS5jb2xhYiBQeXRob24gbW9kdWxlLgogKi8KKGZ1bmN0aW9uKHNjb3BlKSB7CmZ1bmN0aW9uIHNwYW4odGV4dCwgc3R5bGVBdHRyaWJ1dGVzID0ge30pIHsKICBjb25zdCBlbGVtZW50ID0gZG9jdW1lbnQuY3JlYXRlRWxlbWVudCgnc3BhbicpOwogIGVsZW1lbnQudGV4dENvbnRlbnQgPSB0ZXh0OwogIGZvciAoY29uc3Qga2V5IG9mIE9iamVjdC5rZXlzKHN0eWxlQXR0cmlidXRlcykpIHsKICAgIGVsZW1lbnQuc3R5bGVba2V5XSA9IHN0eWxlQXR0cmlidXRlc1trZXldOwogIH0KICByZXR1cm4gZWxlbWVudDsKfQoKLy8gTWF4IG51bWJlciBvZiBieXRlcyB3aGljaCB3aWxsIGJlIHVwbG9hZGVkIGF0IGEgdGltZS4KY29uc3QgTUFYX1BBWUxPQURfU0laRSA9IDEwMCAqIDEwMjQ7CgpmdW5jdGlvbiBfdXBsb2FkRmlsZXMoaW5wdXRJZCwgb3V0cHV0SWQpIHsKICBjb25zdCBzdGVwcyA9IHVwbG9hZEZpbGVzU3RlcChpbnB1dElkLCBvdXRwdXRJZCk7CiAgY29uc3Qgb3V0cHV0RWxlbWVudCA9IGRvY3VtZW50LmdldEVsZW1lbnRCeUlkKG91dHB1dElkKTsKICAvLyBDYWNoZSBzdGVwcyBvbiB0aGUgb3V0cHV0RWxlbWVudCB0byBtYWtlIGl0IGF2YWlsYWJsZSBmb3IgdGhlIG5leHQgY2FsbAogIC8vIHRvIHVwbG9hZEZpbGVzQ29udGludWUgZnJvbSBQeXRob24uCiAgb3V0cHV0RWxlbWVudC5zdGVwcyA9IHN0ZXBzOwoKICByZXR1cm4gX3VwbG9hZEZpbGVzQ29udGludWUob3V0cHV0SWQpOwp9CgovLyBUaGlzIGlzIHJvdWdobHkgYW4gYXN5bmMgZ2VuZXJhdG9yIChub3Qgc3VwcG9ydGVkIGluIHRoZSBicm93c2VyIHlldCksCi8vIHdoZXJlIHRoZXJlIGFyZSBtdWx0aXBsZSBhc3luY2hyb25vdXMgc3RlcHMgYW5kIHRoZSBQeXRob24gc2lkZSBpcyBnb2luZwovLyB0byBwb2xsIGZvciBjb21wbGV0aW9uIG9mIGVhY2ggc3RlcC4KLy8gVGhpcyB1c2VzIGEgUHJvbWlzZSB0byBibG9jayB0aGUgcHl0aG9uIHNpZGUgb24gY29tcGxldGlvbiBvZiBlYWNoIHN0ZXAsCi8vIHRoZW4gcGFzc2VzIHRoZSByZXN1bHQgb2YgdGhlIHByZXZpb3VzIHN0ZXAgYXMgdGhlIGlucHV0IHRvIHRoZSBuZXh0IHN0ZXAuCmZ1bmN0aW9uIF91cGxvYWRGaWxlc0NvbnRpbnVlKG91dHB1dElkKSB7CiAgY29uc3Qgb3V0cHV0RWxlbWVudCA9IGRvY3VtZW50LmdldEVsZW1lbnRCeUlkKG91dHB1dElkKTsKICBjb25zdCBzdGVwcyA9IG91dHB1dEVsZW1lbnQuc3RlcHM7CgogIGNvbnN0IG5leHQgPSBzdGVwcy5uZXh0KG91dHB1dEVsZW1lbnQubGFzdFByb21pc2VWYWx1ZSk7CiAgcmV0dXJuIFByb21pc2UucmVzb2x2ZShuZXh0LnZhbHVlLnByb21pc2UpLnRoZW4oKHZhbHVlKSA9PiB7CiAgICAvLyBDYWNoZSB0aGUgbGFzdCBwcm9taXNlIHZhbHVlIHRvIG1ha2UgaXQgYXZhaWxhYmxlIHRvIHRoZSBuZXh0CiAgICAvLyBzdGVwIG9mIHRoZSBnZW5lcmF0b3IuCiAgICBvdXRwdXRFbGVtZW50Lmxhc3RQcm9taXNlVmFsdWUgPSB2YWx1ZTsKICAgIHJldHVybiBuZXh0LnZhbHVlLnJlc3BvbnNlOwogIH0pOwp9CgovKioKICogR2VuZXJhdG9yIGZ1bmN0aW9uIHdoaWNoIGlzIGNhbGxlZCBiZXR3ZWVuIGVhY2ggYXN5bmMgc3RlcCBvZiB0aGUgdXBsb2FkCiAqIHByb2Nlc3MuCiAqIEBwYXJhbSB7c3RyaW5nfSBpbnB1dElkIEVsZW1lbnQgSUQgb2YgdGhlIGlucHV0IGZpbGUgcGlja2VyIGVsZW1lbnQuCiAqIEBwYXJhbSB7c3RyaW5nfSBvdXRwdXRJZCBFbGVtZW50IElEIG9mIHRoZSBvdXRwdXQgZGlzcGxheS4KICogQHJldHVybiB7IUl0ZXJhYmxlPCFPYmplY3Q+fSBJdGVyYWJsZSBvZiBuZXh0IHN0ZXBzLgogKi8KZnVuY3Rpb24qIHVwbG9hZEZpbGVzU3RlcChpbnB1dElkLCBvdXRwdXRJZCkgewogIGNvbnN0IGlucHV0RWxlbWVudCA9IGRvY3VtZW50LmdldEVsZW1lbnRCeUlkKGlucHV0SWQpOwogIGlucHV0RWxlbWVudC5kaXNhYmxlZCA9IGZhbHNlOwoKICBjb25zdCBvdXRwdXRFbGVtZW50ID0gZG9jdW1lbnQuZ2V0RWxlbWVudEJ5SWQob3V0cHV0SWQpOwogIG91dHB1dEVsZW1lbnQuaW5uZXJIVE1MID0gJyc7CgogIGNvbnN0IHBpY2tlZFByb21pc2UgPSBuZXcgUHJvbWlzZSgocmVzb2x2ZSkgPT4gewogICAgaW5wdXRFbGVtZW50LmFkZEV2ZW50TGlzdGVuZXIoJ2NoYW5nZScsIChlKSA9PiB7CiAgICAgIHJlc29sdmUoZS50YXJnZXQuZmlsZXMpOwogICAgfSk7CiAgfSk7CgogIGNvbnN0IGNhbmNlbCA9IGRvY3VtZW50LmNyZWF0ZUVsZW1lbnQoJ2J1dHRvbicpOwogIGlucHV0RWxlbWVudC5wYXJlbnRFbGVtZW50LmFwcGVuZENoaWxkKGNhbmNlbCk7CiAgY2FuY2VsLnRleHRDb250ZW50ID0gJ0NhbmNlbCB1cGxvYWQnOwogIGNvbnN0IGNhbmNlbFByb21pc2UgPSBuZXcgUHJvbWlzZSgocmVzb2x2ZSkgPT4gewogICAgY2FuY2VsLm9uY2xpY2sgPSAoKSA9PiB7CiAgICAgIHJlc29sdmUobnVsbCk7CiAgICB9OwogIH0pOwoKICAvLyBXYWl0IGZvciB0aGUgdXNlciB0byBwaWNrIHRoZSBmaWxlcy4KICBjb25zdCBmaWxlcyA9IHlpZWxkIHsKICAgIHByb21pc2U6IFByb21pc2UucmFjZShbcGlja2VkUHJvbWlzZSwgY2FuY2VsUHJvbWlzZV0pLAogICAgcmVzcG9uc2U6IHsKICAgICAgYWN0aW9uOiAnc3RhcnRpbmcnLAogICAgfQogIH07CgogIGNhbmNlbC5yZW1vdmUoKTsKCiAgLy8gRGlzYWJsZSB0aGUgaW5wdXQgZWxlbWVudCBzaW5jZSBmdXJ0aGVyIHBpY2tzIGFyZSBub3QgYWxsb3dlZC4KICBpbnB1dEVsZW1lbnQuZGlzYWJsZWQgPSB0cnVlOwoKICBpZiAoIWZpbGVzKSB7CiAgICByZXR1cm4gewogICAgICByZXNwb25zZTogewogICAgICAgIGFjdGlvbjogJ2NvbXBsZXRlJywKICAgICAgfQogICAgfTsKICB9CgogIGZvciAoY29uc3QgZmlsZSBvZiBmaWxlcykgewogICAgY29uc3QgbGkgPSBkb2N1bWVudC5jcmVhdGVFbGVtZW50KCdsaScpOwogICAgbGkuYXBwZW5kKHNwYW4oZmlsZS5uYW1lLCB7Zm9udFdlaWdodDogJ2JvbGQnfSkpOwogICAgbGkuYXBwZW5kKHNwYW4oCiAgICAgICAgYCgke2ZpbGUudHlwZSB8fCAnbi9hJ30pIC0gJHtmaWxlLnNpemV9IGJ5dGVzLCBgICsKICAgICAgICBgbGFzdCBtb2RpZmllZDogJHsKICAgICAgICAgICAgZmlsZS5sYXN0TW9kaWZpZWREYXRlID8gZmlsZS5sYXN0TW9kaWZpZWREYXRlLnRvTG9jYWxlRGF0ZVN0cmluZygpIDoKICAgICAgICAgICAgICAgICAgICAgICAgICAgICAgICAgICAgJ24vYSd9IC0gYCkpOwogICAgY29uc3QgcGVyY2VudCA9IHNwYW4oJzAlIGRvbmUnKTsKICAgIGxpLmFwcGVuZENoaWxkKHBlcmNlbnQpOwoKICAgIG91dHB1dEVsZW1lbnQuYXBwZW5kQ2hpbGQobGkpOwoKICAgIGNvbnN0IGZpbGVEYXRhUHJvbWlzZSA9IG5ldyBQcm9taXNlKChyZXNvbHZlKSA9PiB7CiAgICAgIGNvbnN0IHJlYWRlciA9IG5ldyBGaWxlUmVhZGVyKCk7CiAgICAgIHJlYWRlci5vbmxvYWQgPSAoZSkgPT4gewogICAgICAgIHJlc29sdmUoZS50YXJnZXQucmVzdWx0KTsKICAgICAgfTsKICAgICAgcmVhZGVyLnJlYWRBc0FycmF5QnVmZmVyKGZpbGUpOwogICAgfSk7CiAgICAvLyBXYWl0IGZvciB0aGUgZGF0YSB0byBiZSByZWFkeS4KICAgIGxldCBmaWxlRGF0YSA9IHlpZWxkIHsKICAgICAgcHJvbWlzZTogZmlsZURhdGFQcm9taXNlLAogICAgICByZXNwb25zZTogewogICAgICAgIGFjdGlvbjogJ2NvbnRpbnVlJywKICAgICAgfQogICAgfTsKCiAgICAvLyBVc2UgYSBjaHVua2VkIHNlbmRpbmcgdG8gYXZvaWQgbWVzc2FnZSBzaXplIGxpbWl0cy4gU2VlIGIvNjIxMTU2NjAuCiAgICBsZXQgcG9zaXRpb24gPSAwOwogICAgZG8gewogICAgICBjb25zdCBsZW5ndGggPSBNYXRoLm1pbihmaWxlRGF0YS5ieXRlTGVuZ3RoIC0gcG9zaXRpb24sIE1BWF9QQVlMT0FEX1NJWkUpOwogICAgICBjb25zdCBjaHVuayA9IG5ldyBVaW50OEFycmF5KGZpbGVEYXRhLCBwb3NpdGlvbiwgbGVuZ3RoKTsKICAgICAgcG9zaXRpb24gKz0gbGVuZ3RoOwoKICAgICAgY29uc3QgYmFzZTY0ID0gYnRvYShTdHJpbmcuZnJvbUNoYXJDb2RlLmFwcGx5KG51bGwsIGNodW5rKSk7CiAgICAgIHlpZWxkIHsKICAgICAgICByZXNwb25zZTogewogICAgICAgICAgYWN0aW9uOiAnYXBwZW5kJywKICAgICAgICAgIGZpbGU6IGZpbGUubmFtZSwKICAgICAgICAgIGRhdGE6IGJhc2U2NCwKICAgICAgICB9LAogICAgICB9OwoKICAgICAgbGV0IHBlcmNlbnREb25lID0gZmlsZURhdGEuYnl0ZUxlbmd0aCA9PT0gMCA/CiAgICAgICAgICAxMDAgOgogICAgICAgICAgTWF0aC5yb3VuZCgocG9zaXRpb24gLyBmaWxlRGF0YS5ieXRlTGVuZ3RoKSAqIDEwMCk7CiAgICAgIHBlcmNlbnQudGV4dENvbnRlbnQgPSBgJHtwZXJjZW50RG9uZX0lIGRvbmVgOwoKICAgIH0gd2hpbGUgKHBvc2l0aW9uIDwgZmlsZURhdGEuYnl0ZUxlbmd0aCk7CiAgfQoKICAvLyBBbGwgZG9uZS4KICB5aWVsZCB7CiAgICByZXNwb25zZTogewogICAgICBhY3Rpb246ICdjb21wbGV0ZScsCiAgICB9CiAgfTsKfQoKc2NvcGUuZ29vZ2xlID0gc2NvcGUuZ29vZ2xlIHx8IHt9OwpzY29wZS5nb29nbGUuY29sYWIgPSBzY29wZS5nb29nbGUuY29sYWIgfHwge307CnNjb3BlLmdvb2dsZS5jb2xhYi5fZmlsZXMgPSB7CiAgX3VwbG9hZEZpbGVzLAogIF91cGxvYWRGaWxlc0NvbnRpbnVlLAp9Owp9KShzZWxmKTsK",
              "ok": true,
              "headers": [
                [
                  "content-type",
                  "application/javascript"
                ]
              ],
              "status": 200,
              "status_text": ""
            }
          },
          "base_uri": "https://localhost:8080/",
          "height": 74
        },
        "id": "jM7TC9syu10r",
        "outputId": "0fe52c9b-1239-4090-b81f-83bdae346690"
      },
      "source": [
        "from google.colab import files\n",
        "uploaded=files.upload()"
      ],
      "execution_count": 6,
      "outputs": [
        {
          "output_type": "display_data",
          "data": {
            "text/plain": [
              "<IPython.core.display.HTML object>"
            ],
            "text/html": [
              "\n",
              "     <input type=\"file\" id=\"files-8b5ef339-1e4b-4eb4-8be3-6f6e6dad9128\" name=\"files[]\" multiple disabled\n",
              "        style=\"border:none\" />\n",
              "     <output id=\"result-8b5ef339-1e4b-4eb4-8be3-6f6e6dad9128\">\n",
              "      Upload widget is only available when the cell has been executed in the\n",
              "      current browser session. Please rerun this cell to enable.\n",
              "      </output>\n",
              "      <script src=\"/nbextensions/google.colab/files.js\"></script> "
            ]
          },
          "metadata": {}
        },
        {
          "output_type": "stream",
          "name": "stdout",
          "text": [
            "Saving choc1.mp4 to choc1.mp4\n"
          ]
        }
      ]
    },
    {
      "cell_type": "code",
      "metadata": {
        "colab": {
          "base_uri": "https://localhost:8080/"
        },
        "id": "I3QEGDztvKIb",
        "outputId": "180b109b-3477-4b1d-8c90-a3f3a27ccac3"
      },
      "source": [
        "!python detect.py --source choc1.mp4"
      ],
      "execution_count": 12,
      "outputs": [
        {
          "output_type": "stream",
          "name": "stdout",
          "text": [
            "\u001b[34m\u001b[1mdetect: \u001b[0mweights=yolov5s.pt, source=choc1.mp4, data=data/coco128.yaml, imgsz=[640, 640], conf_thres=0.25, iou_thres=0.45, max_det=1000, device=, view_img=False, save_txt=False, save_conf=False, save_crop=False, nosave=False, classes=None, agnostic_nms=False, augment=False, visualize=False, update=False, project=runs/detect, name=exp, exist_ok=False, line_thickness=3, hide_labels=False, hide_conf=False, half=False, dnn=False\n",
            "YOLOv5 🚀 v6.1-316-g916bdb1 Python-3.7.13 torch-1.12.0+cu113 CUDA:0 (Tesla T4, 15110MiB)\n",
            "\n",
            "Fusing layers... \n",
            "YOLOv5s summary: 213 layers, 7225885 parameters, 0 gradients\n",
            "video 1/1 (1/324) /content/yolov5/choc1.mp4: 352x640 1 person, 1 laptop, 1 mouse, 1 keyboard, Done. (0.013s)\n",
            "video 1/1 (2/324) /content/yolov5/choc1.mp4: 352x640 1 person, 1 laptop, 1 mouse, 1 keyboard, Done. (0.009s)\n",
            "video 1/1 (3/324) /content/yolov5/choc1.mp4: 352x640 1 person, 1 laptop, 1 mouse, 1 keyboard, Done. (0.009s)\n",
            "video 1/1 (4/324) /content/yolov5/choc1.mp4: 352x640 1 person, 1 laptop, 1 mouse, 1 keyboard, 1 book, Done. (0.009s)\n",
            "video 1/1 (5/324) /content/yolov5/choc1.mp4: 352x640 1 person, 1 laptop, 1 mouse, 1 keyboard, 1 book, Done. (0.009s)\n",
            "video 1/1 (6/324) /content/yolov5/choc1.mp4: 352x640 1 person, 1 laptop, 1 mouse, 1 keyboard, 1 book, Done. (0.009s)\n",
            "video 1/1 (7/324) /content/yolov5/choc1.mp4: 352x640 1 person, 1 laptop, 1 mouse, 1 keyboard, 1 book, Done. (0.009s)\n",
            "video 1/1 (8/324) /content/yolov5/choc1.mp4: 352x640 1 person, 1 laptop, 1 mouse, 1 keyboard, 1 book, Done. (0.009s)\n",
            "video 1/1 (9/324) /content/yolov5/choc1.mp4: 352x640 1 person, 1 laptop, 1 keyboard, 1 book, Done. (0.010s)\n",
            "video 1/1 (10/324) /content/yolov5/choc1.mp4: 352x640 1 person, 1 laptop, 1 keyboard, 1 book, Done. (0.009s)\n",
            "video 1/1 (11/324) /content/yolov5/choc1.mp4: 352x640 1 person, 1 laptop, 1 keyboard, 1 book, Done. (0.009s)\n",
            "video 1/1 (12/324) /content/yolov5/choc1.mp4: 352x640 1 person, 1 laptop, 1 keyboard, 1 book, Done. (0.009s)\n",
            "video 1/1 (13/324) /content/yolov5/choc1.mp4: 352x640 1 person, 1 laptop, 1 keyboard, Done. (0.011s)\n",
            "video 1/1 (14/324) /content/yolov5/choc1.mp4: 352x640 1 person, 1 laptop, 1 keyboard, Done. (0.009s)\n",
            "video 1/1 (15/324) /content/yolov5/choc1.mp4: 352x640 1 person, 1 laptop, 1 keyboard, Done. (0.008s)\n",
            "video 1/1 (16/324) /content/yolov5/choc1.mp4: 352x640 1 person, 1 laptop, 1 keyboard, 1 cell phone, 1 book, Done. (0.009s)\n",
            "video 1/1 (17/324) /content/yolov5/choc1.mp4: 352x640 1 person, 1 laptop, 1 keyboard, 1 cell phone, Done. (0.008s)\n",
            "video 1/1 (18/324) /content/yolov5/choc1.mp4: 352x640 1 person, 1 laptop, 1 keyboard, 1 cell phone, Done. (0.009s)\n",
            "video 1/1 (19/324) /content/yolov5/choc1.mp4: 352x640 1 person, 1 laptop, 1 keyboard, Done. (0.009s)\n",
            "video 1/1 (20/324) /content/yolov5/choc1.mp4: 352x640 1 person, 1 laptop, 1 keyboard, Done. (0.008s)\n",
            "video 1/1 (21/324) /content/yolov5/choc1.mp4: 352x640 1 person, 1 laptop, 1 keyboard, Done. (0.010s)\n",
            "video 1/1 (22/324) /content/yolov5/choc1.mp4: 352x640 1 person, 1 laptop, 1 keyboard, Done. (0.009s)\n",
            "video 1/1 (23/324) /content/yolov5/choc1.mp4: 352x640 1 person, 1 laptop, 1 keyboard, Done. (0.008s)\n",
            "video 1/1 (24/324) /content/yolov5/choc1.mp4: 352x640 1 person, 1 laptop, 1 keyboard, Done. (0.009s)\n",
            "video 1/1 (25/324) /content/yolov5/choc1.mp4: 352x640 1 person, 1 laptop, 1 keyboard, 1 cell phone, Done. (0.008s)\n",
            "video 1/1 (26/324) /content/yolov5/choc1.mp4: 352x640 1 person, 1 laptop, 1 keyboard, Done. (0.008s)\n",
            "video 1/1 (27/324) /content/yolov5/choc1.mp4: 352x640 1 person, 1 laptop, 1 keyboard, Done. (0.009s)\n",
            "video 1/1 (28/324) /content/yolov5/choc1.mp4: 352x640 1 person, 1 laptop, 1 mouse, 1 keyboard, Done. (0.009s)\n",
            "video 1/1 (29/324) /content/yolov5/choc1.mp4: 352x640 1 person, 1 bowl, 1 laptop, 1 keyboard, Done. (0.011s)\n",
            "video 1/1 (30/324) /content/yolov5/choc1.mp4: 352x640 1 person, 1 bowl, 1 laptop, 1 mouse, 1 keyboard, Done. (0.008s)\n",
            "video 1/1 (31/324) /content/yolov5/choc1.mp4: 352x640 1 person, 1 bowl, 1 laptop, 1 keyboard, Done. (0.009s)\n",
            "video 1/1 (32/324) /content/yolov5/choc1.mp4: 352x640 1 person, 1 bowl, 1 laptop, 1 keyboard, Done. (0.009s)\n",
            "video 1/1 (33/324) /content/yolov5/choc1.mp4: 352x640 1 person, 1 laptop, 1 keyboard, Done. (0.008s)\n",
            "video 1/1 (34/324) /content/yolov5/choc1.mp4: 352x640 1 person, 1 laptop, 1 keyboard, Done. (0.008s)\n",
            "video 1/1 (35/324) /content/yolov5/choc1.mp4: 352x640 1 person, 1 bowl, 1 laptop, 1 keyboard, Done. (0.009s)\n",
            "video 1/1 (36/324) /content/yolov5/choc1.mp4: 352x640 1 person, 1 laptop, 1 keyboard, Done. (0.009s)\n",
            "video 1/1 (37/324) /content/yolov5/choc1.mp4: 352x640 1 person, 1 laptop, 1 mouse, 1 keyboard, Done. (0.008s)\n",
            "video 1/1 (38/324) /content/yolov5/choc1.mp4: 352x640 1 person, 1 laptop, 2 mouses, 1 keyboard, Done. (0.009s)\n",
            "video 1/1 (39/324) /content/yolov5/choc1.mp4: 352x640 1 person, 1 laptop, 2 mouses, 1 keyboard, Done. (0.012s)\n",
            "video 1/1 (40/324) /content/yolov5/choc1.mp4: 352x640 1 person, 1 laptop, 2 mouses, 1 keyboard, Done. (0.008s)\n",
            "video 1/1 (41/324) /content/yolov5/choc1.mp4: 352x640 1 person, 1 laptop, 2 mouses, 1 keyboard, Done. (0.009s)\n",
            "video 1/1 (42/324) /content/yolov5/choc1.mp4: 352x640 1 person, 1 laptop, 1 mouse, 1 keyboard, 1 cell phone, Done. (0.010s)\n",
            "video 1/1 (43/324) /content/yolov5/choc1.mp4: 352x640 1 person, 1 laptop, 2 mouses, 1 keyboard, Done. (0.009s)\n",
            "video 1/1 (44/324) /content/yolov5/choc1.mp4: 352x640 1 person, 1 laptop, 1 mouse, 1 keyboard, Done. (0.009s)\n",
            "video 1/1 (45/324) /content/yolov5/choc1.mp4: 352x640 1 person, 1 laptop, 1 mouse, 1 keyboard, 1 cell phone, Done. (0.009s)\n",
            "video 1/1 (46/324) /content/yolov5/choc1.mp4: 352x640 1 person, 1 laptop, 1 mouse, 1 keyboard, 1 cell phone, Done. (0.008s)\n",
            "video 1/1 (47/324) /content/yolov5/choc1.mp4: 352x640 1 person, 1 laptop, 1 keyboard, 1 cell phone, Done. (0.009s)\n",
            "video 1/1 (48/324) /content/yolov5/choc1.mp4: 352x640 1 person, 1 laptop, 1 mouse, 1 keyboard, 1 cell phone, Done. (0.008s)\n",
            "video 1/1 (49/324) /content/yolov5/choc1.mp4: 352x640 1 person, 1 laptop, 1 mouse, 1 keyboard, 1 cell phone, Done. (0.008s)\n",
            "video 1/1 (50/324) /content/yolov5/choc1.mp4: 352x640 1 person, 1 laptop, 1 keyboard, 1 cell phone, Done. (0.008s)\n",
            "video 1/1 (51/324) /content/yolov5/choc1.mp4: 352x640 1 person, 1 laptop, 1 keyboard, 2 cell phones, Done. (0.008s)\n",
            "video 1/1 (52/324) /content/yolov5/choc1.mp4: 352x640 1 person, 1 laptop, 1 mouse, 1 keyboard, 1 cell phone, Done. (0.008s)\n",
            "video 1/1 (53/324) /content/yolov5/choc1.mp4: 352x640 1 person, 2 laptops, 1 mouse, 1 keyboard, 1 cell phone, Done. (0.008s)\n",
            "video 1/1 (54/324) /content/yolov5/choc1.mp4: 352x640 1 person, 2 laptops, 1 mouse, 1 keyboard, 1 cell phone, Done. (0.008s)\n",
            "video 1/1 (55/324) /content/yolov5/choc1.mp4: 352x640 1 person, 2 laptops, 1 mouse, 1 keyboard, Done. (0.008s)\n",
            "video 1/1 (56/324) /content/yolov5/choc1.mp4: 352x640 1 person, 1 laptop, 1 mouse, 1 keyboard, Done. (0.008s)\n",
            "video 1/1 (57/324) /content/yolov5/choc1.mp4: 352x640 1 person, 1 laptop, 1 mouse, 1 keyboard, 1 cell phone, Done. (0.008s)\n",
            "video 1/1 (58/324) /content/yolov5/choc1.mp4: 352x640 1 person, 1 laptop, 1 mouse, 1 keyboard, Done. (0.010s)\n",
            "video 1/1 (59/324) /content/yolov5/choc1.mp4: 352x640 1 person, 1 laptop, 1 mouse, 1 keyboard, Done. (0.008s)\n",
            "video 1/1 (60/324) /content/yolov5/choc1.mp4: 352x640 1 person, 1 bowl, 1 laptop, 1 mouse, 1 keyboard, Done. (0.008s)\n",
            "video 1/1 (61/324) /content/yolov5/choc1.mp4: 352x640 1 person, 1 bowl, 1 laptop, 1 mouse, 1 keyboard, Done. (0.008s)\n",
            "video 1/1 (62/324) /content/yolov5/choc1.mp4: 352x640 1 person, 1 bowl, 1 laptop, 1 mouse, 1 keyboard, Done. (0.008s)\n",
            "video 1/1 (63/324) /content/yolov5/choc1.mp4: 352x640 1 person, 1 bowl, 1 laptop, 1 mouse, 1 keyboard, Done. (0.008s)\n",
            "video 1/1 (64/324) /content/yolov5/choc1.mp4: 352x640 1 person, 1 bowl, 1 laptop, 1 mouse, 1 keyboard, Done. (0.011s)\n",
            "video 1/1 (65/324) /content/yolov5/choc1.mp4: 352x640 1 person, 1 bowl, 1 laptop, 1 mouse, 1 keyboard, Done. (0.008s)\n",
            "video 1/1 (66/324) /content/yolov5/choc1.mp4: 352x640 1 person, 1 bowl, 1 laptop, 1 mouse, 1 keyboard, Done. (0.008s)\n",
            "video 1/1 (67/324) /content/yolov5/choc1.mp4: 352x640 1 person, 1 laptop, 1 mouse, 1 keyboard, Done. (0.011s)\n",
            "video 1/1 (68/324) /content/yolov5/choc1.mp4: 352x640 1 person, 1 laptop, 1 mouse, 1 keyboard, Done. (0.008s)\n",
            "video 1/1 (69/324) /content/yolov5/choc1.mp4: 352x640 1 person, 1 laptop, 1 mouse, 1 keyboard, Done. (0.008s)\n",
            "video 1/1 (70/324) /content/yolov5/choc1.mp4: 352x640 1 person, 1 bowl, 1 laptop, 1 mouse, 1 keyboard, Done. (0.008s)\n",
            "video 1/1 (71/324) /content/yolov5/choc1.mp4: 352x640 1 person, 1 bowl, 1 laptop, 1 mouse, 1 keyboard, Done. (0.008s)\n",
            "video 1/1 (72/324) /content/yolov5/choc1.mp4: 352x640 1 person, 1 laptop, 1 mouse, 1 keyboard, Done. (0.009s)\n",
            "video 1/1 (73/324) /content/yolov5/choc1.mp4: 352x640 1 person, 1 laptop, 1 mouse, 1 keyboard, Done. (0.008s)\n",
            "video 1/1 (74/324) /content/yolov5/choc1.mp4: 352x640 1 person, 1 bowl, 1 laptop, 1 mouse, 1 keyboard, Done. (0.008s)\n",
            "video 1/1 (75/324) /content/yolov5/choc1.mp4: 352x640 1 person, 1 bowl, 1 laptop, 1 mouse, 1 keyboard, Done. (0.009s)\n",
            "video 1/1 (76/324) /content/yolov5/choc1.mp4: 352x640 1 person, 1 laptop, 1 mouse, 1 keyboard, Done. (0.008s)\n",
            "video 1/1 (77/324) /content/yolov5/choc1.mp4: 352x640 1 person, 1 laptop, 1 mouse, 1 keyboard, Done. (0.011s)\n",
            "video 1/1 (78/324) /content/yolov5/choc1.mp4: 352x640 1 person, 1 laptop, 2 mouses, 1 keyboard, Done. (0.008s)\n",
            "video 1/1 (79/324) /content/yolov5/choc1.mp4: 352x640 1 person, 2 laptops, 2 mouses, 1 keyboard, Done. (0.008s)\n",
            "video 1/1 (80/324) /content/yolov5/choc1.mp4: 352x640 1 person, 1 bowl, 1 laptop, 2 mouses, 1 keyboard, Done. (0.009s)\n",
            "video 1/1 (81/324) /content/yolov5/choc1.mp4: 352x640 1 person, 1 bowl, 1 laptop, 2 mouses, 1 keyboard, Done. (0.009s)\n",
            "video 1/1 (82/324) /content/yolov5/choc1.mp4: 352x640 1 person, 1 bowl, 1 laptop, 1 keyboard, Done. (0.009s)\n",
            "video 1/1 (83/324) /content/yolov5/choc1.mp4: 352x640 1 person, 1 laptop, 2 mouses, 1 keyboard, 1 cell phone, Done. (0.009s)\n",
            "video 1/1 (84/324) /content/yolov5/choc1.mp4: 352x640 1 person, 1 laptop, 2 mouses, 1 keyboard, 1 cell phone, Done. (0.008s)\n",
            "video 1/1 (85/324) /content/yolov5/choc1.mp4: 352x640 1 person, 1 laptop, 2 mouses, 1 keyboard, Done. (0.008s)\n",
            "video 1/1 (86/324) /content/yolov5/choc1.mp4: 352x640 1 person, 1 bowl, 1 laptop, 2 mouses, 1 keyboard, Done. (0.008s)\n",
            "video 1/1 (87/324) /content/yolov5/choc1.mp4: 352x640 1 person, 1 bowl, 1 laptop, 2 mouses, 1 keyboard, Done. (0.008s)\n",
            "video 1/1 (88/324) /content/yolov5/choc1.mp4: 352x640 1 person, 1 bowl, 1 laptop, 1 mouse, 1 keyboard, Done. (0.008s)\n",
            "video 1/1 (89/324) /content/yolov5/choc1.mp4: 352x640 1 person, 1 bowl, 1 laptop, 1 keyboard, Done. (0.009s)\n",
            "video 1/1 (90/324) /content/yolov5/choc1.mp4: 352x640 1 person, 1 laptop, 1 keyboard, 1 cell phone, Done. (0.008s)\n",
            "video 1/1 (91/324) /content/yolov5/choc1.mp4: 352x640 1 person, 1 laptop, 1 keyboard, 2 cell phones, Done. (0.012s)\n",
            "video 1/1 (92/324) /content/yolov5/choc1.mp4: 352x640 1 person, 1 laptop, 1 keyboard, Done. (0.010s)\n",
            "video 1/1 (93/324) /content/yolov5/choc1.mp4: 352x640 1 person, 1 laptop, 1 keyboard, Done. (0.009s)\n",
            "video 1/1 (94/324) /content/yolov5/choc1.mp4: 352x640 1 person, 1 laptop, 1 keyboard, Done. (0.008s)\n",
            "video 1/1 (95/324) /content/yolov5/choc1.mp4: 352x640 1 person, 1 laptop, 1 keyboard, Done. (0.012s)\n",
            "video 1/1 (96/324) /content/yolov5/choc1.mp4: 352x640 1 person, 1 bowl, 1 laptop, 1 keyboard, Done. (0.008s)\n",
            "video 1/1 (97/324) /content/yolov5/choc1.mp4: 352x640 1 person, 1 bowl, 1 laptop, 1 mouse, 1 keyboard, Done. (0.008s)\n",
            "video 1/1 (98/324) /content/yolov5/choc1.mp4: 352x640 1 bowl, 1 laptop, 1 mouse, 1 keyboard, Done. (0.008s)\n",
            "video 1/1 (99/324) /content/yolov5/choc1.mp4: 352x640 1 person, 1 bowl, 1 laptop, 1 mouse, 1 keyboard, Done. (0.008s)\n",
            "video 1/1 (100/324) /content/yolov5/choc1.mp4: 352x640 1 person, 1 bowl, 1 laptop, 1 mouse, 1 keyboard, Done. (0.009s)\n",
            "video 1/1 (101/324) /content/yolov5/choc1.mp4: 352x640 1 person, 1 bowl, 1 laptop, 1 keyboard, Done. (0.009s)\n",
            "video 1/1 (102/324) /content/yolov5/choc1.mp4: 352x640 1 person, 1 bowl, 1 laptop, 1 mouse, 1 keyboard, Done. (0.008s)\n",
            "video 1/1 (103/324) /content/yolov5/choc1.mp4: 352x640 1 person, 1 bowl, 1 laptop, 1 mouse, 1 keyboard, Done. (0.009s)\n",
            "video 1/1 (104/324) /content/yolov5/choc1.mp4: 352x640 1 person, 1 bowl, 1 laptop, 1 mouse, 1 keyboard, Done. (0.008s)\n",
            "video 1/1 (105/324) /content/yolov5/choc1.mp4: 352x640 1 person, 1 bowl, 1 laptop, 1 mouse, Done. (0.008s)\n",
            "video 1/1 (106/324) /content/yolov5/choc1.mp4: 352x640 1 person, 1 bowl, 1 laptop, Done. (0.008s)\n",
            "video 1/1 (107/324) /content/yolov5/choc1.mp4: 352x640 1 person, 1 bowl, 1 laptop, 1 mouse, Done. (0.008s)\n",
            "video 1/1 (108/324) /content/yolov5/choc1.mp4: 352x640 1 person, 1 bowl, 1 laptop, Done. (0.008s)\n",
            "video 1/1 (109/324) /content/yolov5/choc1.mp4: 352x640 1 person, 1 bowl, 1 laptop, Done. (0.009s)\n",
            "video 1/1 (110/324) /content/yolov5/choc1.mp4: 352x640 1 person, 1 bowl, 1 laptop, 1 keyboard, Done. (0.008s)\n",
            "video 1/1 (111/324) /content/yolov5/choc1.mp4: 352x640 1 person, 1 bowl, 1 laptop, 1 keyboard, Done. (0.008s)\n",
            "video 1/1 (112/324) /content/yolov5/choc1.mp4: 352x640 1 person, 1 bowl, 1 laptop, 1 keyboard, Done. (0.008s)\n",
            "video 1/1 (113/324) /content/yolov5/choc1.mp4: 352x640 1 person, 1 bowl, 1 laptop, 1 keyboard, Done. (0.008s)\n",
            "video 1/1 (114/324) /content/yolov5/choc1.mp4: 352x640 1 person, 1 bowl, 1 laptop, 1 keyboard, Done. (0.011s)\n",
            "video 1/1 (115/324) /content/yolov5/choc1.mp4: 352x640 1 person, 1 bowl, 1 laptop, 1 keyboard, Done. (0.008s)\n",
            "video 1/1 (116/324) /content/yolov5/choc1.mp4: 352x640 1 person, 1 bowl, 1 laptop, 1 keyboard, Done. (0.011s)\n",
            "video 1/1 (117/324) /content/yolov5/choc1.mp4: 352x640 1 person, 1 bowl, 1 laptop, 1 keyboard, Done. (0.008s)\n",
            "video 1/1 (118/324) /content/yolov5/choc1.mp4: 352x640 1 person, 1 bowl, 1 laptop, 1 keyboard, Done. (0.009s)\n",
            "video 1/1 (119/324) /content/yolov5/choc1.mp4: 352x640 1 person, 1 bowl, 1 laptop, 1 keyboard, Done. (0.008s)\n",
            "video 1/1 (120/324) /content/yolov5/choc1.mp4: 352x640 1 person, 1 bowl, 1 laptop, 1 keyboard, Done. (0.009s)\n",
            "video 1/1 (121/324) /content/yolov5/choc1.mp4: 352x640 1 person, 1 bowl, 1 laptop, 1 keyboard, Done. (0.008s)\n",
            "video 1/1 (122/324) /content/yolov5/choc1.mp4: 352x640 1 person, 1 bowl, 1 laptop, 1 keyboard, Done. (0.008s)\n",
            "video 1/1 (123/324) /content/yolov5/choc1.mp4: 352x640 1 person, 1 bowl, 1 laptop, 1 keyboard, Done. (0.008s)\n",
            "video 1/1 (124/324) /content/yolov5/choc1.mp4: 352x640 1 person, 1 bowl, 1 laptop, Done. (0.008s)\n",
            "video 1/1 (125/324) /content/yolov5/choc1.mp4: 352x640 1 person, 1 bowl, 1 laptop, 1 keyboard, Done. (0.008s)\n",
            "video 1/1 (126/324) /content/yolov5/choc1.mp4: 352x640 1 person, 1 bowl, 1 laptop, 1 keyboard, Done. (0.008s)\n",
            "video 1/1 (127/324) /content/yolov5/choc1.mp4: 352x640 1 person, 1 bowl, 1 laptop, 1 keyboard, Done. (0.008s)\n",
            "video 1/1 (128/324) /content/yolov5/choc1.mp4: 352x640 1 person, 1 bowl, 1 laptop, 1 keyboard, Done. (0.008s)\n",
            "video 1/1 (129/324) /content/yolov5/choc1.mp4: 352x640 1 person, 1 bowl, 1 laptop, 1 keyboard, Done. (0.008s)\n",
            "video 1/1 (130/324) /content/yolov5/choc1.mp4: 352x640 1 person, 1 bowl, 1 laptop, 1 keyboard, Done. (0.008s)\n",
            "video 1/1 (131/324) /content/yolov5/choc1.mp4: 352x640 1 person, 1 bowl, 1 laptop, 1 keyboard, Done. (0.009s)\n",
            "video 1/1 (132/324) /content/yolov5/choc1.mp4: 352x640 1 person, 1 bowl, 1 laptop, 1 keyboard, Done. (0.008s)\n",
            "video 1/1 (133/324) /content/yolov5/choc1.mp4: 352x640 1 person, 1 bowl, 1 laptop, 1 keyboard, Done. (0.009s)\n",
            "video 1/1 (134/324) /content/yolov5/choc1.mp4: 352x640 1 person, 1 bowl, 1 laptop, 1 keyboard, Done. (0.008s)\n",
            "video 1/1 (135/324) /content/yolov5/choc1.mp4: 352x640 1 person, 1 bowl, 1 laptop, 1 keyboard, Done. (0.009s)\n",
            "video 1/1 (136/324) /content/yolov5/choc1.mp4: 352x640 1 person, 1 bowl, 1 laptop, 1 keyboard, Done. (0.008s)\n",
            "video 1/1 (137/324) /content/yolov5/choc1.mp4: 352x640 1 person, 1 bowl, 1 laptop, 1 keyboard, Done. (0.008s)\n",
            "video 1/1 (138/324) /content/yolov5/choc1.mp4: 352x640 1 person, 1 bowl, 1 laptop, 1 keyboard, Done. (0.008s)\n",
            "video 1/1 (139/324) /content/yolov5/choc1.mp4: 352x640 1 person, 1 bowl, 1 laptop, 1 keyboard, Done. (0.011s)\n",
            "video 1/1 (140/324) /content/yolov5/choc1.mp4: 352x640 1 person, 1 bowl, 1 laptop, 1 keyboard, Done. (0.008s)\n",
            "video 1/1 (141/324) /content/yolov5/choc1.mp4: 352x640 1 person, 1 bowl, 1 laptop, 1 keyboard, Done. (0.008s)\n",
            "video 1/1 (142/324) /content/yolov5/choc1.mp4: 352x640 1 person, 1 bowl, 1 laptop, 1 keyboard, Done. (0.008s)\n",
            "video 1/1 (143/324) /content/yolov5/choc1.mp4: 352x640 1 person, 1 bowl, 1 laptop, 1 keyboard, Done. (0.008s)\n",
            "video 1/1 (144/324) /content/yolov5/choc1.mp4: 352x640 1 person, 1 bowl, 1 laptop, 1 keyboard, Done. (0.008s)\n",
            "video 1/1 (145/324) /content/yolov5/choc1.mp4: 352x640 1 bowl, 1 laptop, 1 keyboard, Done. (0.008s)\n",
            "video 1/1 (146/324) /content/yolov5/choc1.mp4: 352x640 1 bowl, 1 laptop, 1 keyboard, Done. (0.009s)\n",
            "video 1/1 (147/324) /content/yolov5/choc1.mp4: 352x640 1 bowl, 1 laptop, 1 keyboard, Done. (0.008s)\n",
            "video 1/1 (148/324) /content/yolov5/choc1.mp4: 352x640 1 bowl, 1 laptop, 1 keyboard, Done. (0.009s)\n",
            "video 1/1 (149/324) /content/yolov5/choc1.mp4: 352x640 1 bowl, 1 laptop, 1 keyboard, Done. (0.008s)\n",
            "video 1/1 (150/324) /content/yolov5/choc1.mp4: 352x640 1 person, 1 bowl, 1 laptop, 1 keyboard, Done. (0.008s)\n",
            "video 1/1 (151/324) /content/yolov5/choc1.mp4: 352x640 1 bowl, 1 laptop, 1 keyboard, Done. (0.008s)\n",
            "video 1/1 (152/324) /content/yolov5/choc1.mp4: 352x640 1 person, 1 bowl, 1 laptop, 1 keyboard, Done. (0.008s)\n",
            "video 1/1 (153/324) /content/yolov5/choc1.mp4: 352x640 1 bowl, 1 laptop, 1 keyboard, Done. (0.009s)\n",
            "video 1/1 (154/324) /content/yolov5/choc1.mp4: 352x640 1 bowl, 1 laptop, 1 keyboard, Done. (0.008s)\n",
            "video 1/1 (155/324) /content/yolov5/choc1.mp4: 352x640 1 laptop, 1 keyboard, Done. (0.008s)\n",
            "video 1/1 (156/324) /content/yolov5/choc1.mp4: 352x640 1 laptop, 1 keyboard, Done. (0.012s)\n",
            "video 1/1 (157/324) /content/yolov5/choc1.mp4: 352x640 1 person, 1 laptop, 1 keyboard, Done. (0.009s)\n",
            "video 1/1 (158/324) /content/yolov5/choc1.mp4: 352x640 1 person, 1 laptop, 1 mouse, 1 keyboard, Done. (0.013s)\n",
            "video 1/1 (159/324) /content/yolov5/choc1.mp4: 352x640 1 person, 1 laptop, 1 keyboard, Done. (0.008s)\n",
            "video 1/1 (160/324) /content/yolov5/choc1.mp4: 352x640 1 person, 1 laptop, 1 keyboard, Done. (0.008s)\n",
            "video 1/1 (161/324) /content/yolov5/choc1.mp4: 352x640 1 laptop, 1 keyboard, Done. (0.008s)\n",
            "video 1/1 (162/324) /content/yolov5/choc1.mp4: 352x640 1 person, 1 laptop, 2 mouses, 1 keyboard, Done. (0.008s)\n",
            "video 1/1 (163/324) /content/yolov5/choc1.mp4: 352x640 1 person, 1 laptop, 1 mouse, 1 keyboard, Done. (0.008s)\n",
            "video 1/1 (164/324) /content/yolov5/choc1.mp4: 352x640 1 person, 1 laptop, 1 mouse, 1 keyboard, Done. (0.008s)\n",
            "video 1/1 (165/324) /content/yolov5/choc1.mp4: 352x640 1 person, 1 bowl, 1 laptop, 1 mouse, 1 keyboard, Done. (0.010s)\n",
            "video 1/1 (166/324) /content/yolov5/choc1.mp4: 352x640 1 person, 1 laptop, 1 mouse, 1 keyboard, Done. (0.008s)\n",
            "video 1/1 (167/324) /content/yolov5/choc1.mp4: 352x640 1 person, 1 bowl, 1 laptop, 1 mouse, 1 keyboard, Done. (0.011s)\n",
            "video 1/1 (168/324) /content/yolov5/choc1.mp4: 352x640 1 person, 1 bowl, 1 laptop, 1 keyboard, Done. (0.008s)\n",
            "video 1/1 (169/324) /content/yolov5/choc1.mp4: 352x640 1 person, 1 laptop, 1 mouse, 1 keyboard, Done. (0.009s)\n",
            "video 1/1 (170/324) /content/yolov5/choc1.mp4: 352x640 1 person, 1 bowl, 1 laptop, 1 mouse, 1 keyboard, Done. (0.008s)\n",
            "video 1/1 (171/324) /content/yolov5/choc1.mp4: 352x640 1 person, 1 bowl, 1 laptop, 1 mouse, 1 keyboard, Done. (0.008s)\n",
            "video 1/1 (172/324) /content/yolov5/choc1.mp4: 352x640 1 person, 1 bowl, 1 laptop, 1 mouse, 1 keyboard, Done. (0.009s)\n",
            "video 1/1 (173/324) /content/yolov5/choc1.mp4: 352x640 1 bowl, 1 laptop, 1 mouse, 1 keyboard, Done. (0.008s)\n",
            "video 1/1 (174/324) /content/yolov5/choc1.mp4: 352x640 1 bowl, 1 laptop, 1 keyboard, Done. (0.009s)\n",
            "video 1/1 (175/324) /content/yolov5/choc1.mp4: 352x640 1 bowl, 1 laptop, 1 keyboard, Done. (0.009s)\n",
            "video 1/1 (176/324) /content/yolov5/choc1.mp4: 352x640 1 bowl, 1 laptop, 1 keyboard, Done. (0.008s)\n",
            "video 1/1 (177/324) /content/yolov5/choc1.mp4: 352x640 1 bowl, 1 laptop, 1 keyboard, Done. (0.008s)\n",
            "video 1/1 (178/324) /content/yolov5/choc1.mp4: 352x640 1 bowl, 1 laptop, 1 keyboard, Done. (0.012s)\n",
            "video 1/1 (179/324) /content/yolov5/choc1.mp4: 352x640 1 bowl, 1 laptop, Done. (0.008s)\n",
            "video 1/1 (180/324) /content/yolov5/choc1.mp4: 352x640 1 bowl, 1 laptop, Done. (0.008s)\n",
            "video 1/1 (181/324) /content/yolov5/choc1.mp4: 352x640 1 bowl, 1 laptop, Done. (0.008s)\n",
            "video 1/1 (182/324) /content/yolov5/choc1.mp4: 352x640 1 bowl, 1 laptop, Done. (0.008s)\n",
            "video 1/1 (183/324) /content/yolov5/choc1.mp4: 352x640 1 bowl, 1 laptop, Done. (0.008s)\n",
            "video 1/1 (184/324) /content/yolov5/choc1.mp4: 352x640 1 bowl, 1 laptop, Done. (0.008s)\n",
            "video 1/1 (185/324) /content/yolov5/choc1.mp4: 352x640 1 bowl, 1 laptop, Done. (0.008s)\n",
            "video 1/1 (186/324) /content/yolov5/choc1.mp4: 352x640 1 bowl, 1 laptop, Done. (0.008s)\n",
            "video 1/1 (187/324) /content/yolov5/choc1.mp4: 352x640 1 bowl, 1 laptop, Done. (0.008s)\n",
            "video 1/1 (188/324) /content/yolov5/choc1.mp4: 352x640 1 bowl, 1 laptop, 1 keyboard, Done. (0.008s)\n",
            "video 1/1 (189/324) /content/yolov5/choc1.mp4: 352x640 1 bowl, 1 laptop, 1 keyboard, Done. (0.008s)\n",
            "video 1/1 (190/324) /content/yolov5/choc1.mp4: 352x640 1 bowl, 1 laptop, 1 keyboard, Done. (0.010s)\n",
            "video 1/1 (191/324) /content/yolov5/choc1.mp4: 352x640 1 bowl, 1 laptop, 1 keyboard, Done. (0.009s)\n",
            "video 1/1 (192/324) /content/yolov5/choc1.mp4: 352x640 1 bowl, 1 laptop, 1 keyboard, Done. (0.008s)\n",
            "video 1/1 (193/324) /content/yolov5/choc1.mp4: 352x640 1 bowl, 1 laptop, 1 keyboard, Done. (0.008s)\n",
            "video 1/1 (194/324) /content/yolov5/choc1.mp4: 352x640 1 bowl, 1 laptop, 1 keyboard, Done. (0.008s)\n",
            "video 1/1 (195/324) /content/yolov5/choc1.mp4: 352x640 1 bowl, 1 laptop, 1 keyboard, Done. (0.008s)\n",
            "video 1/1 (196/324) /content/yolov5/choc1.mp4: 352x640 1 bowl, 1 laptop, 1 keyboard, Done. (0.008s)\n",
            "video 1/1 (197/324) /content/yolov5/choc1.mp4: 352x640 1 bowl, 1 laptop, 1 keyboard, Done. (0.008s)\n",
            "video 1/1 (198/324) /content/yolov5/choc1.mp4: 352x640 1 bowl, 1 laptop, 1 keyboard, Done. (0.008s)\n",
            "video 1/1 (199/324) /content/yolov5/choc1.mp4: 352x640 1 bowl, 1 laptop, 1 keyboard, Done. (0.008s)\n",
            "video 1/1 (200/324) /content/yolov5/choc1.mp4: 352x640 1 bowl, 1 laptop, 1 keyboard, Done. (0.008s)\n",
            "video 1/1 (201/324) /content/yolov5/choc1.mp4: 352x640 1 bowl, 1 laptop, 1 keyboard, Done. (0.008s)\n",
            "video 1/1 (202/324) /content/yolov5/choc1.mp4: 352x640 1 bowl, 1 laptop, 1 keyboard, Done. (0.008s)\n",
            "video 1/1 (203/324) /content/yolov5/choc1.mp4: 352x640 1 bowl, 1 laptop, 1 keyboard, Done. (0.008s)\n",
            "video 1/1 (204/324) /content/yolov5/choc1.mp4: 352x640 1 bowl, 1 laptop, 1 keyboard, Done. (0.008s)\n",
            "video 1/1 (205/324) /content/yolov5/choc1.mp4: 352x640 1 bowl, 1 laptop, 1 keyboard, Done. (0.009s)\n",
            "video 1/1 (206/324) /content/yolov5/choc1.mp4: 352x640 1 bowl, 1 laptop, 1 keyboard, Done. (0.008s)\n",
            "video 1/1 (207/324) /content/yolov5/choc1.mp4: 352x640 1 bowl, 1 laptop, 1 keyboard, Done. (0.009s)\n",
            "video 1/1 (208/324) /content/yolov5/choc1.mp4: 352x640 1 bowl, 1 laptop, 1 keyboard, Done. (0.008s)\n",
            "video 1/1 (209/324) /content/yolov5/choc1.mp4: 352x640 1 bowl, 1 laptop, 1 keyboard, Done. (0.008s)\n",
            "video 1/1 (210/324) /content/yolov5/choc1.mp4: 352x640 1 bowl, 1 laptop, Done. (0.008s)\n",
            "video 1/1 (211/324) /content/yolov5/choc1.mp4: 352x640 1 laptop, 1 vase, Done. (0.008s)\n",
            "video 1/1 (212/324) /content/yolov5/choc1.mp4: 352x640 1 bowl, 1 laptop, Done. (0.009s)\n",
            "video 1/1 (213/324) /content/yolov5/choc1.mp4: 352x640 1 bowl, 1 laptop, Done. (0.009s)\n",
            "video 1/1 (214/324) /content/yolov5/choc1.mp4: 352x640 1 bowl, 1 laptop, Done. (0.008s)\n",
            "video 1/1 (215/324) /content/yolov5/choc1.mp4: 352x640 1 bowl, 1 laptop, Done. (0.009s)\n",
            "video 1/1 (216/324) /content/yolov5/choc1.mp4: 352x640 1 bowl, 1 laptop, Done. (0.008s)\n",
            "video 1/1 (217/324) /content/yolov5/choc1.mp4: 352x640 1 bowl, 1 laptop, Done. (0.008s)\n",
            "video 1/1 (218/324) /content/yolov5/choc1.mp4: 352x640 1 bowl, 1 laptop, Done. (0.008s)\n",
            "video 1/1 (219/324) /content/yolov5/choc1.mp4: 352x640 1 bowl, 1 laptop, Done. (0.012s)\n",
            "video 1/1 (220/324) /content/yolov5/choc1.mp4: 352x640 1 laptop, 1 keyboard, Done. (0.008s)\n",
            "video 1/1 (221/324) /content/yolov5/choc1.mp4: 352x640 1 laptop, Done. (0.009s)\n",
            "video 1/1 (222/324) /content/yolov5/choc1.mp4: 352x640 1 laptop, Done. (0.008s)\n",
            "video 1/1 (223/324) /content/yolov5/choc1.mp4: 352x640 1 laptop, 2 mouses, 1 keyboard, 1 book, Done. (0.011s)\n",
            "video 1/1 (224/324) /content/yolov5/choc1.mp4: 352x640 1 laptop, Done. (0.012s)\n",
            "video 1/1 (225/324) /content/yolov5/choc1.mp4: 352x640 1 sink, Done. (0.008s)\n",
            "video 1/1 (226/324) /content/yolov5/choc1.mp4: 352x640 1 bowl, Done. (0.008s)\n",
            "video 1/1 (227/324) /content/yolov5/choc1.mp4: 352x640 1 suitcase, 1 bowl, 1 laptop, 1 mouse, Done. (0.008s)\n",
            "video 1/1 (228/324) /content/yolov5/choc1.mp4: 352x640 1 suitcase, 1 bowl, 1 keyboard, Done. (0.008s)\n",
            "video 1/1 (229/324) /content/yolov5/choc1.mp4: 352x640 1 bowl, 1 laptop, 2 keyboards, Done. (0.008s)\n",
            "video 1/1 (230/324) /content/yolov5/choc1.mp4: 352x640 1 bowl, 2 laptops, 1 mouse, 2 keyboards, Done. (0.008s)\n",
            "video 1/1 (231/324) /content/yolov5/choc1.mp4: 352x640 1 bowl, 1 mouse, 1 keyboard, 1 book, Done. (0.008s)\n",
            "video 1/1 (232/324) /content/yolov5/choc1.mp4: 352x640 1 bowl, 1 laptop, 2 keyboards, Done. (0.008s)\n",
            "video 1/1 (233/324) /content/yolov5/choc1.mp4: 352x640 1 bowl, 1 laptop, 1 mouse, 2 keyboards, Done. (0.008s)\n",
            "video 1/1 (234/324) /content/yolov5/choc1.mp4: 352x640 1 bowl, 1 mouse, 1 keyboard, 1 book, Done. (0.009s)\n",
            "video 1/1 (235/324) /content/yolov5/choc1.mp4: 352x640 1 bowl, 1 mouse, 1 keyboard, 1 book, Done. (0.008s)\n",
            "video 1/1 (236/324) /content/yolov5/choc1.mp4: 352x640 1 bowl, 1 mouse, 1 keyboard, Done. (0.008s)\n",
            "video 1/1 (237/324) /content/yolov5/choc1.mp4: 352x640 1 bowl, 1 mouse, 2 keyboards, Done. (0.009s)\n",
            "video 1/1 (238/324) /content/yolov5/choc1.mp4: 352x640 1 bowl, 1 mouse, 2 keyboards, Done. (0.011s)\n",
            "video 1/1 (239/324) /content/yolov5/choc1.mp4: 352x640 1 bowl, 1 mouse, 2 keyboards, Done. (0.009s)\n",
            "video 1/1 (240/324) /content/yolov5/choc1.mp4: 352x640 1 bowl, 1 mouse, 2 keyboards, Done. (0.008s)\n",
            "video 1/1 (241/324) /content/yolov5/choc1.mp4: 352x640 1 bowl, 1 laptop, 1 mouse, 2 keyboards, Done. (0.009s)\n",
            "video 1/1 (242/324) /content/yolov5/choc1.mp4: 352x640 1 bowl, 1 laptop, 1 mouse, 1 keyboard, Done. (0.008s)\n",
            "video 1/1 (243/324) /content/yolov5/choc1.mp4: 352x640 1 bowl, 2 laptops, 1 mouse, 1 keyboard, Done. (0.009s)\n",
            "video 1/1 (244/324) /content/yolov5/choc1.mp4: 352x640 1 bowl, 2 laptops, 1 mouse, 1 keyboard, Done. (0.009s)\n",
            "video 1/1 (245/324) /content/yolov5/choc1.mp4: 352x640 1 bowl, 2 laptops, 1 mouse, 2 keyboards, Done. (0.008s)\n",
            "video 1/1 (246/324) /content/yolov5/choc1.mp4: 352x640 1 bowl, 2 laptops, 1 mouse, 2 keyboards, Done. (0.008s)\n",
            "video 1/1 (247/324) /content/yolov5/choc1.mp4: 352x640 1 bowl, 1 laptop, 1 mouse, 2 keyboards, Done. (0.008s)\n",
            "video 1/1 (248/324) /content/yolov5/choc1.mp4: 352x640 1 bowl, 1 mouse, 1 keyboard, Done. (0.008s)\n",
            "video 1/1 (249/324) /content/yolov5/choc1.mp4: 352x640 1 bowl, 1 laptop, 1 mouse, 2 keyboards, Done. (0.009s)\n",
            "video 1/1 (250/324) /content/yolov5/choc1.mp4: 352x640 1 bowl, 1 laptop, 1 mouse, 2 keyboards, Done. (0.008s)\n",
            "video 1/1 (251/324) /content/yolov5/choc1.mp4: 352x640 1 bowl, 1 laptop, 1 mouse, 2 keyboards, Done. (0.009s)\n",
            "video 1/1 (252/324) /content/yolov5/choc1.mp4: 352x640 1 bowl, 1 laptop, 1 mouse, 1 keyboard, Done. (0.008s)\n",
            "video 1/1 (253/324) /content/yolov5/choc1.mp4: 352x640 1 bowl, 1 laptop, 1 mouse, 1 keyboard, Done. (0.009s)\n",
            "video 1/1 (254/324) /content/yolov5/choc1.mp4: 352x640 1 bowl, 1 laptop, 1 mouse, 2 keyboards, Done. (0.009s)\n",
            "video 1/1 (255/324) /content/yolov5/choc1.mp4: 352x640 1 bowl, 1 mouse, 1 keyboard, Done. (0.008s)\n",
            "video 1/1 (256/324) /content/yolov5/choc1.mp4: 352x640 1 mouse, 1 keyboard, Done. (0.010s)\n",
            "video 1/1 (257/324) /content/yolov5/choc1.mp4: 352x640 1 mouse, 1 keyboard, Done. (0.012s)\n",
            "video 1/1 (258/324) /content/yolov5/choc1.mp4: 352x640 1 laptop, 1 keyboard, Done. (0.009s)\n",
            "video 1/1 (259/324) /content/yolov5/choc1.mp4: 352x640 1 laptop, 1 keyboard, Done. (0.008s)\n",
            "video 1/1 (260/324) /content/yolov5/choc1.mp4: 352x640 1 bowl, 1 keyboard, 1 cell phone, Done. (0.008s)\n",
            "video 1/1 (261/324) /content/yolov5/choc1.mp4: 352x640 1 bowl, 1 keyboard, 1 sink, Done. (0.008s)\n",
            "video 1/1 (262/324) /content/yolov5/choc1.mp4: 352x640 1 bowl, 1 keyboard, 1 sink, Done. (0.008s)\n",
            "video 1/1 (263/324) /content/yolov5/choc1.mp4: 352x640 1 bowl, 1 keyboard, Done. (0.009s)\n",
            "video 1/1 (264/324) /content/yolov5/choc1.mp4: 352x640 1 bowl, 1 keyboard, Done. (0.008s)\n",
            "video 1/1 (265/324) /content/yolov5/choc1.mp4: 352x640 1 bowl, 1 keyboard, Done. (0.009s)\n",
            "video 1/1 (266/324) /content/yolov5/choc1.mp4: 352x640 1 bowl, 1 keyboard, Done. (0.008s)\n",
            "video 1/1 (267/324) /content/yolov5/choc1.mp4: 352x640 1 bowl, 1 keyboard, Done. (0.009s)\n",
            "video 1/1 (268/324) /content/yolov5/choc1.mp4: 352x640 1 bowl, 1 keyboard, Done. (0.008s)\n",
            "video 1/1 (269/324) /content/yolov5/choc1.mp4: 352x640 1 bowl, 1 keyboard, Done. (0.009s)\n",
            "video 1/1 (270/324) /content/yolov5/choc1.mp4: 352x640 1 bowl, 1 laptop, 1 keyboard, Done. (0.009s)\n",
            "video 1/1 (271/324) /content/yolov5/choc1.mp4: 352x640 1 bowl, 1 keyboard, Done. (0.009s)\n",
            "video 1/1 (272/324) /content/yolov5/choc1.mp4: 352x640 1 bowl, 1 keyboard, Done. (0.009s)\n",
            "video 1/1 (273/324) /content/yolov5/choc1.mp4: 352x640 1 bowl, 1 keyboard, Done. (0.009s)\n",
            "video 1/1 (274/324) /content/yolov5/choc1.mp4: 352x640 1 bowl, 1 keyboard, Done. (0.009s)\n",
            "video 1/1 (275/324) /content/yolov5/choc1.mp4: 352x640 1 bowl, 1 keyboard, Done. (0.009s)\n",
            "video 1/1 (276/324) /content/yolov5/choc1.mp4: 352x640 1 bowl, 1 keyboard, Done. (0.009s)\n",
            "video 1/1 (277/324) /content/yolov5/choc1.mp4: 352x640 1 bowl, 1 laptop, 2 keyboards, Done. (0.013s)\n",
            "video 1/1 (278/324) /content/yolov5/choc1.mp4: 352x640 1 bowl, 1 laptop, 2 keyboards, Done. (0.008s)\n",
            "video 1/1 (279/324) /content/yolov5/choc1.mp4: 352x640 1 bowl, 1 laptop, 2 keyboards, Done. (0.008s)\n",
            "video 1/1 (280/324) /content/yolov5/choc1.mp4: 352x640 1 bowl, 1 laptop, 1 keyboard, Done. (0.009s)\n",
            "video 1/1 (281/324) /content/yolov5/choc1.mp4: 352x640 1 bowl, 1 laptop, 1 mouse, 2 keyboards, Done. (0.009s)\n",
            "video 1/1 (282/324) /content/yolov5/choc1.mp4: 352x640 1 bowl, 1 laptop, 1 mouse, 1 keyboard, Done. (0.009s)\n",
            "video 1/1 (283/324) /content/yolov5/choc1.mp4: 352x640 1 bowl, 1 laptop, 1 keyboard, Done. (0.009s)\n",
            "video 1/1 (284/324) /content/yolov5/choc1.mp4: 352x640 1 bowl, 1 laptop, 1 keyboard, Done. (0.011s)\n",
            "video 1/1 (285/324) /content/yolov5/choc1.mp4: 352x640 1 bowl, 1 laptop, Done. (0.008s)\n",
            "video 1/1 (286/324) /content/yolov5/choc1.mp4: 352x640 1 bowl, 1 laptop, 1 keyboard, Done. (0.009s)\n",
            "video 1/1 (287/324) /content/yolov5/choc1.mp4: 352x640 1 bowl, 1 laptop, 1 keyboard, Done. (0.008s)\n",
            "video 1/1 (288/324) /content/yolov5/choc1.mp4: 352x640 1 bowl, 1 laptop, Done. (0.008s)\n",
            "video 1/1 (289/324) /content/yolov5/choc1.mp4: 352x640 1 bowl, 1 laptop, 1 cell phone, 1 book, Done. (0.013s)\n",
            "video 1/1 (290/324) /content/yolov5/choc1.mp4: 352x640 1 bowl, 1 laptop, 1 keyboard, Done. (0.009s)\n",
            "video 1/1 (291/324) /content/yolov5/choc1.mp4: 352x640 1 bowl, 1 laptop, 1 mouse, 1 keyboard, 1 cell phone, Done. (0.011s)\n",
            "video 1/1 (292/324) /content/yolov5/choc1.mp4: 352x640 1 bowl, 1 laptop, 1 keyboard, 1 cell phone, Done. (0.008s)\n",
            "video 1/1 (293/324) /content/yolov5/choc1.mp4: 352x640 1 bowl, 1 laptop, 1 keyboard, Done. (0.008s)\n",
            "video 1/1 (294/324) /content/yolov5/choc1.mp4: 352x640 1 bowl, 1 laptop, 1 keyboard, Done. (0.008s)\n",
            "video 1/1 (295/324) /content/yolov5/choc1.mp4: 352x640 1 bowl, 1 laptop, 2 keyboards, Done. (0.009s)\n",
            "video 1/1 (296/324) /content/yolov5/choc1.mp4: 352x640 1 bowl, 1 laptop, 1 keyboard, Done. (0.008s)\n",
            "video 1/1 (297/324) /content/yolov5/choc1.mp4: 352x640 1 bowl, 1 laptop, 1 keyboard, Done. (0.008s)\n",
            "video 1/1 (298/324) /content/yolov5/choc1.mp4: 352x640 1 bowl, 1 laptop, 1 keyboard, Done. (0.008s)\n",
            "video 1/1 (299/324) /content/yolov5/choc1.mp4: 352x640 1 bowl, 1 laptop, 1 keyboard, Done. (0.008s)\n",
            "video 1/1 (300/324) /content/yolov5/choc1.mp4: 352x640 1 bowl, 1 laptop, 1 keyboard, Done. (0.008s)\n",
            "video 1/1 (301/324) /content/yolov5/choc1.mp4: 352x640 1 bowl, 1 laptop, 1 keyboard, Done. (0.008s)\n",
            "video 1/1 (302/324) /content/yolov5/choc1.mp4: 352x640 1 person, 1 bowl, 1 laptop, 1 keyboard, Done. (0.009s)\n",
            "video 1/1 (303/324) /content/yolov5/choc1.mp4: 352x640 1 person, 1 bowl, 1 laptop, 1 keyboard, Done. (0.009s)\n",
            "video 1/1 (304/324) /content/yolov5/choc1.mp4: 352x640 1 person, 1 bowl, 1 laptop, 1 keyboard, Done. (0.008s)\n",
            "video 1/1 (305/324) /content/yolov5/choc1.mp4: 352x640 1 person, 1 bowl, 1 laptop, 1 mouse, 1 keyboard, Done. (0.008s)\n",
            "video 1/1 (306/324) /content/yolov5/choc1.mp4: 352x640 1 person, 1 bowl, 1 laptop, 1 mouse, 1 keyboard, Done. (0.008s)\n",
            "video 1/1 (307/324) /content/yolov5/choc1.mp4: 352x640 1 bowl, 1 laptop, 1 keyboard, Done. (0.008s)\n",
            "video 1/1 (308/324) /content/yolov5/choc1.mp4: 352x640 1 bowl, 1 laptop, 1 mouse, 1 keyboard, Done. (0.008s)\n",
            "video 1/1 (309/324) /content/yolov5/choc1.mp4: 352x640 1 laptop, 1 mouse, 1 keyboard, Done. (0.008s)\n",
            "video 1/1 (310/324) /content/yolov5/choc1.mp4: 352x640 1 laptop, 1 mouse, 1 keyboard, Done. (0.008s)\n",
            "video 1/1 (311/324) /content/yolov5/choc1.mp4: 352x640 1 bowl, 1 laptop, 1 mouse, 1 keyboard, Done. (0.008s)\n",
            "video 1/1 (312/324) /content/yolov5/choc1.mp4: 352x640 1 person, 1 laptop, 1 mouse, 1 keyboard, Done. (0.009s)\n",
            "video 1/1 (313/324) /content/yolov5/choc1.mp4: 352x640 1 person, 1 bowl, 1 laptop, 1 mouse, 1 keyboard, Done. (0.008s)\n",
            "video 1/1 (314/324) /content/yolov5/choc1.mp4: 352x640 1 person, 1 bowl, 1 laptop, 1 mouse, 1 keyboard, Done. (0.008s)\n",
            "video 1/1 (315/324) /content/yolov5/choc1.mp4: 352x640 1 person, 1 bowl, 1 laptop, 1 keyboard, Done. (0.008s)\n",
            "video 1/1 (316/324) /content/yolov5/choc1.mp4: 352x640 1 person, 1 bowl, 2 laptops, 1 keyboard, Done. (0.009s)\n",
            "video 1/1 (317/324) /content/yolov5/choc1.mp4: 352x640 1 bowl, 2 laptops, 1 keyboard, Done. (0.008s)\n",
            "video 1/1 (318/324) /content/yolov5/choc1.mp4: 352x640 1 bowl, 2 laptops, 1 keyboard, Done. (0.008s)\n",
            "video 1/1 (319/324) /content/yolov5/choc1.mp4: 352x640 1 bowl, 1 laptop, 1 keyboard, Done. (0.008s)\n",
            "video 1/1 (320/324) /content/yolov5/choc1.mp4: 352x640 1 bowl, 2 laptops, 1 keyboard, Done. (0.009s)\n",
            "video 1/1 (321/324) /content/yolov5/choc1.mp4: 352x640 1 bowl, 2 laptops, 1 keyboard, Done. (0.008s)\n",
            "video 1/1 (322/324) /content/yolov5/choc1.mp4: 352x640 1 bowl, 3 laptops, 1 keyboard, Done. (0.009s)\n",
            "video 1/1 (323/324) /content/yolov5/choc1.mp4: 352x640 1 bowl, 1 laptop, 1 keyboard, Done. (0.008s)\n",
            "video 1/1 (324/324) /content/yolov5/choc1.mp4: 352x640 1 bowl, 2 laptops, 1 keyboard, Done. (0.008s)\n",
            "Speed: 0.4ms pre-process, 8.7ms inference, 0.8ms NMS per image at shape (1, 3, 640, 640)\n",
            "Results saved to \u001b[1mruns/detect/exp5\u001b[0m\n"
          ]
        }
      ]
    },
    {
      "cell_type": "code",
      "metadata": {
        "colab": {
          "resources": {
            "http://localhost:8080/nbextensions/google.colab/files.js": {
              "data": "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",
              "ok": true,
              "headers": [
                [
                  "content-type",
                  "application/javascript"
                ]
              ],
              "status": 200,
              "status_text": ""
            }
          },
          "base_uri": "https://localhost:8080/",
          "height": 74
        },
        "id": "HLK2ZWEXvid2",
        "outputId": "b902ec8e-b4bc-4d18-c0c3-344818fa91e2"
      },
      "source": [
        "from google.colab import files\n",
        "uploaded=files.upload()"
      ],
      "execution_count": 8,
      "outputs": [
        {
          "output_type": "display_data",
          "data": {
            "text/plain": [
              "<IPython.core.display.HTML object>"
            ],
            "text/html": [
              "\n",
              "     <input type=\"file\" id=\"files-a9806237-77df-4117-b812-80573a44ce77\" name=\"files[]\" multiple disabled\n",
              "        style=\"border:none\" />\n",
              "     <output id=\"result-a9806237-77df-4117-b812-80573a44ce77\">\n",
              "      Upload widget is only available when the cell has been executed in the\n",
              "      current browser session. Please rerun this cell to enable.\n",
              "      </output>\n",
              "      <script src=\"/nbextensions/google.colab/files.js\"></script> "
            ]
          },
          "metadata": {}
        },
        {
          "output_type": "stream",
          "name": "stdout",
          "text": [
            "Saving 273787218_2901659386792365_4298517782155908899_n.jpg to 273787218_2901659386792365_4298517782155908899_n.jpg\n"
          ]
        }
      ]
    },
    {
      "cell_type": "code",
      "metadata": {
        "colab": {
          "base_uri": "https://localhost:8080/"
        },
        "id": "Zk-08avBv1Jl",
        "outputId": "74fafe6c-dce5-42a8-a7ce-539232134f13"
      },
      "source": [
        "!python detect.py --source 273787218_2901659386792365_4298517782155908899_n.jpg"
      ],
      "execution_count": 11,
      "outputs": [
        {
          "output_type": "stream",
          "name": "stdout",
          "text": [
            "\u001b[34m\u001b[1mdetect: \u001b[0mweights=yolov5s.pt, source=273787218_2901659386792365_4298517782155908899_n.jpg, data=data/coco128.yaml, imgsz=[640, 640], conf_thres=0.25, iou_thres=0.45, max_det=1000, device=, view_img=False, save_txt=False, save_conf=False, save_crop=False, nosave=False, classes=None, agnostic_nms=False, augment=False, visualize=False, update=False, project=runs/detect, name=exp, exist_ok=False, line_thickness=3, hide_labels=False, hide_conf=False, half=False, dnn=False\n",
            "YOLOv5 🚀 v6.1-316-g916bdb1 Python-3.7.13 torch-1.12.0+cu113 CUDA:0 (Tesla T4, 15110MiB)\n",
            "\n",
            "Fusing layers... \n",
            "YOLOv5s summary: 213 layers, 7225885 parameters, 0 gradients\n",
            "image 1/1 /content/yolov5/273787218_2901659386792365_4298517782155908899_n.jpg: 480x640 1 person, Done. (0.013s)\n",
            "Speed: 0.6ms pre-process, 13.4ms inference, 23.1ms NMS per image at shape (1, 3, 640, 640)\n",
            "Results saved to \u001b[1mruns/detect/exp4\u001b[0m\n"
          ]
        }
      ]
    },
    {
      "cell_type": "code",
      "metadata": {
        "id": "hikS2Ie7wtDV"
      },
      "source": [
        ""
      ],
      "execution_count": 9,
      "outputs": []
    }
  ]
}